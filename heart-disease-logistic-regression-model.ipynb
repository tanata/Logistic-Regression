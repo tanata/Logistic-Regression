{
 "cells": [
  {
   "cell_type": "code",
   "execution_count": 1,
   "id": "constitutional-memory",
   "metadata": {
    "_cell_guid": "b1076dfc-b9ad-4769-8c92-a6c4dae69d19",
    "_uuid": "8f2839f25d086af736a60e9eeb907d3b93b6e0e5",
    "execution": {
     "iopub.execute_input": "2021-05-16T08:11:00.071539Z",
     "iopub.status.busy": "2021-05-16T08:11:00.070981Z",
     "iopub.status.idle": "2021-05-16T08:11:00.086196Z",
     "shell.execute_reply": "2021-05-16T08:11:00.085572Z"
    },
    "papermill": {
     "duration": 0.054636,
     "end_time": "2021-05-16T08:11:00.086344",
     "exception": false,
     "start_time": "2021-05-16T08:11:00.031708",
     "status": "completed"
    },
    "tags": []
   },
   "outputs": [
    {
     "name": "stdout",
     "output_type": "stream",
     "text": [
      "/kaggle/input/heart-disease-uci/heart.csv\n"
     ]
    }
   ],
   "source": [
    "# This Python 3 environment comes with many helpful analytics libraries installed\n",
    "# It is defined by the kaggle/python Docker image: https://github.com/kaggle/docker-python\n",
    "# For example, here's several helpful packages to load\n",
    "\n",
    "import numpy as np # linear algebra\n",
    "import pandas as pd # data processing, CSV file I/O (e.g. pd.read_csv)\n",
    "\n",
    "# Input data files are available in the read-only \"../input/\" directory\n",
    "# For example, running this (by clicking run or pressing Shift+Enter) will list all files under the input directory\n",
    "\n",
    "import os\n",
    "for dirname, _, filenames in os.walk('/kaggle/input'):\n",
    "    for filename in filenames:\n",
    "        print(os.path.join(dirname, filename))\n",
    "\n",
    "# You can write up to 20GB to the current directory (/kaggle/working/) that gets preserved as output when you create a version using \"Save & Run All\" \n",
    "# You can also write temporary files to /kaggle/temp/, but they won't be saved outside of the current session"
   ]
  },
  {
   "cell_type": "code",
   "execution_count": 2,
   "id": "known-stuff",
   "metadata": {
    "execution": {
     "iopub.execute_input": "2021-05-16T08:11:00.161247Z",
     "iopub.status.busy": "2021-05-16T08:11:00.160720Z",
     "iopub.status.idle": "2021-05-16T08:11:01.555095Z",
     "shell.execute_reply": "2021-05-16T08:11:01.554584Z"
    },
    "papermill": {
     "duration": 1.431405,
     "end_time": "2021-05-16T08:11:01.555228",
     "exception": false,
     "start_time": "2021-05-16T08:11:00.123823",
     "status": "completed"
    },
    "tags": []
   },
   "outputs": [],
   "source": [
    "import pandas as pd\n",
    "import numpy as np\n",
    "import matplotlib.pyplot as plt\n",
    "import seaborn as sns\n",
    "\n",
    "from sklearn.preprocessing import StandardScaler\n",
    "#from sklearn.preprocessing import Imputer\n",
    "from sklearn.model_selection import GridSearchCV,train_test_split,cross_val_score\n",
    "from sklearn.metrics import classification_report,confusion_matrix\n",
    "from sklearn.linear_model import LogisticRegression\n",
    "from sklearn.naive_bayes import GaussianNB\n",
    "from sklearn.neighbors import KNeighborsClassifier\n",
    "from sklearn.tree import DecisionTreeClassifier\n",
    "from sklearn.ensemble import RandomForestClassifier\n",
    "from sklearn.ensemble import GradientBoostingClassifier\n",
    "from sklearn.svm import SVC\n",
    "from sklearn.metrics import roc_curve, auc \n",
    "\n",
    "%matplotlib inline\n",
    "\n",
    "import warnings\n",
    "warnings.filterwarnings('ignore')"
   ]
  },
  {
   "cell_type": "code",
   "execution_count": 3,
   "id": "verbal-aside",
   "metadata": {
    "execution": {
     "iopub.execute_input": "2021-05-16T08:11:01.622316Z",
     "iopub.status.busy": "2021-05-16T08:11:01.621817Z",
     "iopub.status.idle": "2021-05-16T08:11:01.661605Z",
     "shell.execute_reply": "2021-05-16T08:11:01.661097Z"
    },
    "papermill": {
     "duration": 0.075427,
     "end_time": "2021-05-16T08:11:01.661713",
     "exception": false,
     "start_time": "2021-05-16T08:11:01.586286",
     "status": "completed"
    },
    "tags": []
   },
   "outputs": [
    {
     "data": {
      "text/html": [
       "<div>\n",
       "<style scoped>\n",
       "    .dataframe tbody tr th:only-of-type {\n",
       "        vertical-align: middle;\n",
       "    }\n",
       "\n",
       "    .dataframe tbody tr th {\n",
       "        vertical-align: top;\n",
       "    }\n",
       "\n",
       "    .dataframe thead th {\n",
       "        text-align: right;\n",
       "    }\n",
       "</style>\n",
       "<table border=\"1\" class=\"dataframe\">\n",
       "  <thead>\n",
       "    <tr style=\"text-align: right;\">\n",
       "      <th></th>\n",
       "      <th>age</th>\n",
       "      <th>sex</th>\n",
       "      <th>cp</th>\n",
       "      <th>trestbps</th>\n",
       "      <th>chol</th>\n",
       "      <th>fbs</th>\n",
       "      <th>restecg</th>\n",
       "      <th>thalach</th>\n",
       "      <th>exang</th>\n",
       "      <th>oldpeak</th>\n",
       "      <th>slope</th>\n",
       "      <th>ca</th>\n",
       "      <th>thal</th>\n",
       "      <th>target</th>\n",
       "    </tr>\n",
       "  </thead>\n",
       "  <tbody>\n",
       "    <tr>\n",
       "      <th>0</th>\n",
       "      <td>63</td>\n",
       "      <td>1</td>\n",
       "      <td>3</td>\n",
       "      <td>145</td>\n",
       "      <td>233</td>\n",
       "      <td>1</td>\n",
       "      <td>0</td>\n",
       "      <td>150</td>\n",
       "      <td>0</td>\n",
       "      <td>2.3</td>\n",
       "      <td>0</td>\n",
       "      <td>0</td>\n",
       "      <td>1</td>\n",
       "      <td>1</td>\n",
       "    </tr>\n",
       "    <tr>\n",
       "      <th>1</th>\n",
       "      <td>37</td>\n",
       "      <td>1</td>\n",
       "      <td>2</td>\n",
       "      <td>130</td>\n",
       "      <td>250</td>\n",
       "      <td>0</td>\n",
       "      <td>1</td>\n",
       "      <td>187</td>\n",
       "      <td>0</td>\n",
       "      <td>3.5</td>\n",
       "      <td>0</td>\n",
       "      <td>0</td>\n",
       "      <td>2</td>\n",
       "      <td>1</td>\n",
       "    </tr>\n",
       "    <tr>\n",
       "      <th>2</th>\n",
       "      <td>41</td>\n",
       "      <td>0</td>\n",
       "      <td>1</td>\n",
       "      <td>130</td>\n",
       "      <td>204</td>\n",
       "      <td>0</td>\n",
       "      <td>0</td>\n",
       "      <td>172</td>\n",
       "      <td>0</td>\n",
       "      <td>1.4</td>\n",
       "      <td>2</td>\n",
       "      <td>0</td>\n",
       "      <td>2</td>\n",
       "      <td>1</td>\n",
       "    </tr>\n",
       "    <tr>\n",
       "      <th>3</th>\n",
       "      <td>56</td>\n",
       "      <td>1</td>\n",
       "      <td>1</td>\n",
       "      <td>120</td>\n",
       "      <td>236</td>\n",
       "      <td>0</td>\n",
       "      <td>1</td>\n",
       "      <td>178</td>\n",
       "      <td>0</td>\n",
       "      <td>0.8</td>\n",
       "      <td>2</td>\n",
       "      <td>0</td>\n",
       "      <td>2</td>\n",
       "      <td>1</td>\n",
       "    </tr>\n",
       "    <tr>\n",
       "      <th>4</th>\n",
       "      <td>57</td>\n",
       "      <td>0</td>\n",
       "      <td>0</td>\n",
       "      <td>120</td>\n",
       "      <td>354</td>\n",
       "      <td>0</td>\n",
       "      <td>1</td>\n",
       "      <td>163</td>\n",
       "      <td>1</td>\n",
       "      <td>0.6</td>\n",
       "      <td>2</td>\n",
       "      <td>0</td>\n",
       "      <td>2</td>\n",
       "      <td>1</td>\n",
       "    </tr>\n",
       "  </tbody>\n",
       "</table>\n",
       "</div>"
      ],
      "text/plain": [
       "   age  sex  cp  trestbps  chol  fbs  restecg  thalach  exang  oldpeak  slope  \\\n",
       "0   63    1   3       145   233    1        0      150      0      2.3      0   \n",
       "1   37    1   2       130   250    0        1      187      0      3.5      0   \n",
       "2   41    0   1       130   204    0        0      172      0      1.4      2   \n",
       "3   56    1   1       120   236    0        1      178      0      0.8      2   \n",
       "4   57    0   0       120   354    0        1      163      1      0.6      2   \n",
       "\n",
       "   ca  thal  target  \n",
       "0   0     1       1  \n",
       "1   0     2       1  \n",
       "2   0     2       1  \n",
       "3   0     2       1  \n",
       "4   0     2       1  "
      ]
     },
     "execution_count": 3,
     "metadata": {},
     "output_type": "execute_result"
    }
   ],
   "source": [
    "data = pd.read_csv('/kaggle/input/heart-disease-uci/heart.csv')\n",
    "data.head()"
   ]
  },
  {
   "cell_type": "code",
   "execution_count": 4,
   "id": "color-seating",
   "metadata": {
    "execution": {
     "iopub.execute_input": "2021-05-16T08:11:01.730913Z",
     "iopub.status.busy": "2021-05-16T08:11:01.730398Z",
     "iopub.status.idle": "2021-05-16T08:11:01.734395Z",
     "shell.execute_reply": "2021-05-16T08:11:01.733742Z"
    },
    "papermill": {
     "duration": 0.041003,
     "end_time": "2021-05-16T08:11:01.734533",
     "exception": false,
     "start_time": "2021-05-16T08:11:01.693530",
     "status": "completed"
    },
    "tags": []
   },
   "outputs": [
    {
     "data": {
      "text/plain": [
       "(303, 14)"
      ]
     },
     "execution_count": 4,
     "metadata": {},
     "output_type": "execute_result"
    }
   ],
   "source": [
    "data.shape"
   ]
  },
  {
   "cell_type": "code",
   "execution_count": 5,
   "id": "pregnant-prime",
   "metadata": {
    "execution": {
     "iopub.execute_input": "2021-05-16T08:11:01.852700Z",
     "iopub.status.busy": "2021-05-16T08:11:01.852035Z",
     "iopub.status.idle": "2021-05-16T08:11:01.854990Z",
     "shell.execute_reply": "2021-05-16T08:11:01.855510Z"
    },
    "papermill": {
     "duration": 0.072835,
     "end_time": "2021-05-16T08:11:01.855672",
     "exception": false,
     "start_time": "2021-05-16T08:11:01.782837",
     "status": "completed"
    },
    "tags": []
   },
   "outputs": [
    {
     "name": "stdout",
     "output_type": "stream",
     "text": [
      "<class 'pandas.core.frame.DataFrame'>\n",
      "RangeIndex: 303 entries, 0 to 302\n",
      "Data columns (total 14 columns):\n",
      " #   Column    Non-Null Count  Dtype  \n",
      "---  ------    --------------  -----  \n",
      " 0   age       303 non-null    int64  \n",
      " 1   sex       303 non-null    int64  \n",
      " 2   cp        303 non-null    int64  \n",
      " 3   trestbps  303 non-null    int64  \n",
      " 4   chol      303 non-null    int64  \n",
      " 5   fbs       303 non-null    int64  \n",
      " 6   restecg   303 non-null    int64  \n",
      " 7   thalach   303 non-null    int64  \n",
      " 8   exang     303 non-null    int64  \n",
      " 9   oldpeak   303 non-null    float64\n",
      " 10  slope     303 non-null    int64  \n",
      " 11  ca        303 non-null    int64  \n",
      " 12  thal      303 non-null    int64  \n",
      " 13  target    303 non-null    int64  \n",
      "dtypes: float64(1), int64(13)\n",
      "memory usage: 33.3 KB\n"
     ]
    }
   ],
   "source": [
    "data.info()"
   ]
  },
  {
   "cell_type": "markdown",
   "id": "purple-damage",
   "metadata": {
    "papermill": {
     "duration": 0.047704,
     "end_time": "2021-05-16T08:11:01.951759",
     "exception": false,
     "start_time": "2021-05-16T08:11:01.904055",
     "status": "completed"
    },
    "tags": []
   },
   "source": [
    "## Data Cleaning"
   ]
  },
  {
   "cell_type": "code",
   "execution_count": 6,
   "id": "pointed-fourth",
   "metadata": {
    "execution": {
     "iopub.execute_input": "2021-05-16T08:11:02.053913Z",
     "iopub.status.busy": "2021-05-16T08:11:02.053273Z",
     "iopub.status.idle": "2021-05-16T08:11:02.075853Z",
     "shell.execute_reply": "2021-05-16T08:11:02.075335Z"
    },
    "papermill": {
     "duration": 0.076313,
     "end_time": "2021-05-16T08:11:02.075965",
     "exception": false,
     "start_time": "2021-05-16T08:11:01.999652",
     "status": "completed"
    },
    "tags": []
   },
   "outputs": [
    {
     "data": {
      "text/plain": [
       "age         0.0\n",
       "sex         0.0\n",
       "cp          0.0\n",
       "trestbps    0.0\n",
       "chol        0.0\n",
       "fbs         0.0\n",
       "restecg     0.0\n",
       "thalach     0.0\n",
       "exang       0.0\n",
       "oldpeak     0.0\n",
       "slope       0.0\n",
       "ca          0.0\n",
       "thal        0.0\n",
       "target      0.0\n",
       "dtype: float64"
      ]
     },
     "execution_count": 6,
     "metadata": {},
     "output_type": "execute_result"
    }
   ],
   "source": [
    "# Calculating % null values\n",
    "round(100*(data.isnull().sum()/len(data)))"
   ]
  },
  {
   "cell_type": "markdown",
   "id": "american-course",
   "metadata": {
    "papermill": {
     "duration": 0.040533,
     "end_time": "2021-05-16T08:11:02.150788",
     "exception": false,
     "start_time": "2021-05-16T08:11:02.110255",
     "status": "completed"
    },
    "tags": []
   },
   "source": [
    "The dataset does not have any null values\n"
   ]
  },
  {
   "cell_type": "code",
   "execution_count": 7,
   "id": "equal-nightmare",
   "metadata": {
    "execution": {
     "iopub.execute_input": "2021-05-16T08:11:02.234935Z",
     "iopub.status.busy": "2021-05-16T08:11:02.234385Z",
     "iopub.status.idle": "2021-05-16T08:11:02.277032Z",
     "shell.execute_reply": "2021-05-16T08:11:02.276497Z"
    },
    "papermill": {
     "duration": 0.087157,
     "end_time": "2021-05-16T08:11:02.277146",
     "exception": false,
     "start_time": "2021-05-16T08:11:02.189989",
     "status": "completed"
    },
    "tags": []
   },
   "outputs": [
    {
     "data": {
      "text/html": [
       "<div>\n",
       "<style scoped>\n",
       "    .dataframe tbody tr th:only-of-type {\n",
       "        vertical-align: middle;\n",
       "    }\n",
       "\n",
       "    .dataframe tbody tr th {\n",
       "        vertical-align: top;\n",
       "    }\n",
       "\n",
       "    .dataframe thead th {\n",
       "        text-align: right;\n",
       "    }\n",
       "</style>\n",
       "<table border=\"1\" class=\"dataframe\">\n",
       "  <thead>\n",
       "    <tr style=\"text-align: right;\">\n",
       "      <th></th>\n",
       "      <th>age</th>\n",
       "      <th>sex</th>\n",
       "      <th>cp</th>\n",
       "      <th>trestbps</th>\n",
       "      <th>chol</th>\n",
       "      <th>fbs</th>\n",
       "      <th>restecg</th>\n",
       "      <th>thalach</th>\n",
       "      <th>exang</th>\n",
       "      <th>oldpeak</th>\n",
       "      <th>slope</th>\n",
       "      <th>ca</th>\n",
       "      <th>thal</th>\n",
       "      <th>target</th>\n",
       "    </tr>\n",
       "  </thead>\n",
       "  <tbody>\n",
       "    <tr>\n",
       "      <th>count</th>\n",
       "      <td>303.000000</td>\n",
       "      <td>303.000000</td>\n",
       "      <td>303.000000</td>\n",
       "      <td>303.000000</td>\n",
       "      <td>303.000000</td>\n",
       "      <td>303.000000</td>\n",
       "      <td>303.000000</td>\n",
       "      <td>303.000000</td>\n",
       "      <td>303.000000</td>\n",
       "      <td>303.000000</td>\n",
       "      <td>303.000000</td>\n",
       "      <td>303.000000</td>\n",
       "      <td>303.000000</td>\n",
       "      <td>303.000000</td>\n",
       "    </tr>\n",
       "    <tr>\n",
       "      <th>mean</th>\n",
       "      <td>54.366337</td>\n",
       "      <td>0.683168</td>\n",
       "      <td>0.966997</td>\n",
       "      <td>131.623762</td>\n",
       "      <td>246.264026</td>\n",
       "      <td>0.148515</td>\n",
       "      <td>0.528053</td>\n",
       "      <td>149.646865</td>\n",
       "      <td>0.326733</td>\n",
       "      <td>1.039604</td>\n",
       "      <td>1.399340</td>\n",
       "      <td>0.729373</td>\n",
       "      <td>2.313531</td>\n",
       "      <td>0.544554</td>\n",
       "    </tr>\n",
       "    <tr>\n",
       "      <th>std</th>\n",
       "      <td>9.082101</td>\n",
       "      <td>0.466011</td>\n",
       "      <td>1.032052</td>\n",
       "      <td>17.538143</td>\n",
       "      <td>51.830751</td>\n",
       "      <td>0.356198</td>\n",
       "      <td>0.525860</td>\n",
       "      <td>22.905161</td>\n",
       "      <td>0.469794</td>\n",
       "      <td>1.161075</td>\n",
       "      <td>0.616226</td>\n",
       "      <td>1.022606</td>\n",
       "      <td>0.612277</td>\n",
       "      <td>0.498835</td>\n",
       "    </tr>\n",
       "    <tr>\n",
       "      <th>min</th>\n",
       "      <td>29.000000</td>\n",
       "      <td>0.000000</td>\n",
       "      <td>0.000000</td>\n",
       "      <td>94.000000</td>\n",
       "      <td>126.000000</td>\n",
       "      <td>0.000000</td>\n",
       "      <td>0.000000</td>\n",
       "      <td>71.000000</td>\n",
       "      <td>0.000000</td>\n",
       "      <td>0.000000</td>\n",
       "      <td>0.000000</td>\n",
       "      <td>0.000000</td>\n",
       "      <td>0.000000</td>\n",
       "      <td>0.000000</td>\n",
       "    </tr>\n",
       "    <tr>\n",
       "      <th>25%</th>\n",
       "      <td>47.500000</td>\n",
       "      <td>0.000000</td>\n",
       "      <td>0.000000</td>\n",
       "      <td>120.000000</td>\n",
       "      <td>211.000000</td>\n",
       "      <td>0.000000</td>\n",
       "      <td>0.000000</td>\n",
       "      <td>133.500000</td>\n",
       "      <td>0.000000</td>\n",
       "      <td>0.000000</td>\n",
       "      <td>1.000000</td>\n",
       "      <td>0.000000</td>\n",
       "      <td>2.000000</td>\n",
       "      <td>0.000000</td>\n",
       "    </tr>\n",
       "    <tr>\n",
       "      <th>50%</th>\n",
       "      <td>55.000000</td>\n",
       "      <td>1.000000</td>\n",
       "      <td>1.000000</td>\n",
       "      <td>130.000000</td>\n",
       "      <td>240.000000</td>\n",
       "      <td>0.000000</td>\n",
       "      <td>1.000000</td>\n",
       "      <td>153.000000</td>\n",
       "      <td>0.000000</td>\n",
       "      <td>0.800000</td>\n",
       "      <td>1.000000</td>\n",
       "      <td>0.000000</td>\n",
       "      <td>2.000000</td>\n",
       "      <td>1.000000</td>\n",
       "    </tr>\n",
       "    <tr>\n",
       "      <th>75%</th>\n",
       "      <td>61.000000</td>\n",
       "      <td>1.000000</td>\n",
       "      <td>2.000000</td>\n",
       "      <td>140.000000</td>\n",
       "      <td>274.500000</td>\n",
       "      <td>0.000000</td>\n",
       "      <td>1.000000</td>\n",
       "      <td>166.000000</td>\n",
       "      <td>1.000000</td>\n",
       "      <td>1.600000</td>\n",
       "      <td>2.000000</td>\n",
       "      <td>1.000000</td>\n",
       "      <td>3.000000</td>\n",
       "      <td>1.000000</td>\n",
       "    </tr>\n",
       "    <tr>\n",
       "      <th>max</th>\n",
       "      <td>77.000000</td>\n",
       "      <td>1.000000</td>\n",
       "      <td>3.000000</td>\n",
       "      <td>200.000000</td>\n",
       "      <td>564.000000</td>\n",
       "      <td>1.000000</td>\n",
       "      <td>2.000000</td>\n",
       "      <td>202.000000</td>\n",
       "      <td>1.000000</td>\n",
       "      <td>6.200000</td>\n",
       "      <td>2.000000</td>\n",
       "      <td>4.000000</td>\n",
       "      <td>3.000000</td>\n",
       "      <td>1.000000</td>\n",
       "    </tr>\n",
       "  </tbody>\n",
       "</table>\n",
       "</div>"
      ],
      "text/plain": [
       "              age         sex          cp    trestbps        chol         fbs  \\\n",
       "count  303.000000  303.000000  303.000000  303.000000  303.000000  303.000000   \n",
       "mean    54.366337    0.683168    0.966997  131.623762  246.264026    0.148515   \n",
       "std      9.082101    0.466011    1.032052   17.538143   51.830751    0.356198   \n",
       "min     29.000000    0.000000    0.000000   94.000000  126.000000    0.000000   \n",
       "25%     47.500000    0.000000    0.000000  120.000000  211.000000    0.000000   \n",
       "50%     55.000000    1.000000    1.000000  130.000000  240.000000    0.000000   \n",
       "75%     61.000000    1.000000    2.000000  140.000000  274.500000    0.000000   \n",
       "max     77.000000    1.000000    3.000000  200.000000  564.000000    1.000000   \n",
       "\n",
       "          restecg     thalach       exang     oldpeak       slope          ca  \\\n",
       "count  303.000000  303.000000  303.000000  303.000000  303.000000  303.000000   \n",
       "mean     0.528053  149.646865    0.326733    1.039604    1.399340    0.729373   \n",
       "std      0.525860   22.905161    0.469794    1.161075    0.616226    1.022606   \n",
       "min      0.000000   71.000000    0.000000    0.000000    0.000000    0.000000   \n",
       "25%      0.000000  133.500000    0.000000    0.000000    1.000000    0.000000   \n",
       "50%      1.000000  153.000000    0.000000    0.800000    1.000000    0.000000   \n",
       "75%      1.000000  166.000000    1.000000    1.600000    2.000000    1.000000   \n",
       "max      2.000000  202.000000    1.000000    6.200000    2.000000    4.000000   \n",
       "\n",
       "             thal      target  \n",
       "count  303.000000  303.000000  \n",
       "mean     2.313531    0.544554  \n",
       "std      0.612277    0.498835  \n",
       "min      0.000000    0.000000  \n",
       "25%      2.000000    0.000000  \n",
       "50%      2.000000    1.000000  \n",
       "75%      3.000000    1.000000  \n",
       "max      3.000000    1.000000  "
      ]
     },
     "execution_count": 7,
     "metadata": {},
     "output_type": "execute_result"
    }
   ],
   "source": [
    "data.describe()"
   ]
  },
  {
   "cell_type": "markdown",
   "id": "indie-barcelona",
   "metadata": {
    "papermill": {
     "duration": 0.03315,
     "end_time": "2021-05-16T08:11:02.343313",
     "exception": false,
     "start_time": "2021-05-16T08:11:02.310163",
     "status": "completed"
    },
    "tags": []
   },
   "source": [
    "## Univariate Analysis"
   ]
  },
  {
   "cell_type": "markdown",
   "id": "administrative-struggle",
   "metadata": {
    "papermill": {
     "duration": 0.031814,
     "end_time": "2021-05-16T08:11:02.408204",
     "exception": false,
     "start_time": "2021-05-16T08:11:02.376390",
     "status": "completed"
    },
    "tags": []
   },
   "source": [
    "Let us construct distplot for each of the variables"
   ]
  },
  {
   "cell_type": "code",
   "execution_count": 8,
   "id": "civic-airplane",
   "metadata": {
    "execution": {
     "iopub.execute_input": "2021-05-16T08:11:02.477364Z",
     "iopub.status.busy": "2021-05-16T08:11:02.476681Z",
     "iopub.status.idle": "2021-05-16T08:11:02.479978Z",
     "shell.execute_reply": "2021-05-16T08:11:02.480337Z"
    },
    "papermill": {
     "duration": 0.03999,
     "end_time": "2021-05-16T08:11:02.480462",
     "exception": false,
     "start_time": "2021-05-16T08:11:02.440472",
     "status": "completed"
    },
    "tags": []
   },
   "outputs": [
    {
     "data": {
      "text/plain": [
       "Index(['age', 'sex', 'cp', 'trestbps', 'chol', 'fbs', 'restecg', 'thalach',\n",
       "       'exang', 'oldpeak', 'slope', 'ca', 'thal', 'target'],\n",
       "      dtype='object')"
      ]
     },
     "execution_count": 8,
     "metadata": {},
     "output_type": "execute_result"
    }
   ],
   "source": [
    "col = data.columns\n",
    "col\n"
   ]
  },
  {
   "cell_type": "markdown",
   "id": "marine-shoulder",
   "metadata": {
    "papermill": {
     "duration": 0.031895,
     "end_time": "2021-05-16T08:11:02.544620",
     "exception": false,
     "start_time": "2021-05-16T08:11:02.512725",
     "status": "completed"
    },
    "tags": []
   },
   "source": [
    "### Data Set columns"
   ]
  },
  {
   "cell_type": "markdown",
   "id": "olive-picnic",
   "metadata": {
    "papermill": {
     "duration": 0.03122,
     "end_time": "2021-05-16T08:11:02.607089",
     "exception": false,
     "start_time": "2021-05-16T08:11:02.575869",
     "status": "completed"
    },
    "tags": []
   },
   "source": [
    "* Age (age in years)\n",
    "* Sex (1 = male; 0 = female)\n",
    "* CP (chest pain type)\n",
    "* TRESTBPS (resting blood pressure (in mm Hg on admission to the hospital))\n",
    "* CHOL (serum cholestoral in mg/dl)\n",
    "* FPS (fasting blood sugar > 120 mg/dl) (1 = true; 0 = false)\n",
    "* RESTECH (resting electrocardiographic results)\n",
    "* THALACH (maximum heart rate achieved)\n",
    "* EXANG (exercise induced angina (1 = yes; 0 = no))\n",
    "* OLDPEAK (ST depression induced by exercise relative to rest)\n",
    "* SLOPE (the slope of the peak exercise ST segment)\n",
    "* CA (number of major vessels (0-3) colored by flourosopy)\n",
    "* THAL (3 = normal; 6 = fixed defect; 7 = reversable defect)\n",
    "* TARGET (1 or 0)"
   ]
  },
  {
   "cell_type": "code",
   "execution_count": 9,
   "id": "political-tumor",
   "metadata": {
    "execution": {
     "iopub.execute_input": "2021-05-16T08:11:02.685679Z",
     "iopub.status.busy": "2021-05-16T08:11:02.685164Z",
     "iopub.status.idle": "2021-05-16T08:11:04.687030Z",
     "shell.execute_reply": "2021-05-16T08:11:04.687519Z"
    },
    "papermill": {
     "duration": 2.050361,
     "end_time": "2021-05-16T08:11:04.687705",
     "exception": false,
     "start_time": "2021-05-16T08:11:02.637344",
     "status": "completed"
    },
    "tags": []
   },
   "outputs": [
    {
     "data": {
      "image/png": "[encoded data removed]",
      "text/plain": [
       "<Figure size 432x288 with 1 Axes>"
      ]
     },
     "metadata": {
      "needs_background": "light"
     },
     "output_type": "display_data"
    },
    {
     "data": {
      "image/png": "[encoded data removed]",
      "text/plain": [
       "<Figure size 432x288 with 1 Axes>"
      ]
     },
     "metadata": {
      "needs_background": "light"
     },
     "output_type": "display_data"
    },
    {
     "data": {
      "image/png": "[encoded data removed]",
      "text/plain": [
       "<Figure size 432x288 with 1 Axes>"
      ]
     },
     "metadata": {
      "needs_background": "light"
     },
     "output_type": "display_data"
    },
    {
     "data": {
      "image/png": "[encoded data removed]",
      "text/plain": [
       "<Figure size 432x288 with 1 Axes>"
      ]
     },
     "metadata": {
      "needs_background": "light"
     },
     "output_type": "display_data"
    },
    {
     "data": {
      "image/png": "[encoded data removed]",
      "text/plain": [
       "<Figure size 432x288 with 1 Axes>"
      ]
     },
     "metadata": {
      "needs_background": "light"
     },
     "output_type": "display_data"
    },
    {
     "data": {
      "image/png": "[encoded data removed]",
      "text/plain": [
       "<Figure size 432x288 with 1 Axes>"
      ]
     },
     "metadata": {
      "needs_background": "light"
     },
     "output_type": "display_data"
    },
    {
     "data": {
      "image/png": "[encoded data removed]",
      "text/plain": [
       "<Figure size 432x288 with 1 Axes>"
      ]
     },
     "metadata": {
      "needs_background": "light"
     },
     "output_type": "display_data"
    },
    {
     "data": {
      "image/png": "[encoded data removed]",
      "text/plain": [
       "<Figure size 432x288 with 1 Axes>"
      ]
     },
     "metadata": {
      "needs_background": "light"
     },
     "output_type": "display_data"
    },
    {
     "data": {
      "image/png": "[encoded data removed]",
      "text/plain": [
       "<Figure size 432x288 with 1 Axes>"
      ]
     },
     "metadata": {
      "needs_background": "light"
     },
     "output_type": "display_data"
    },
    {
     "data": {
      "image/png": "[encoded data removed]",
      "text/plain": [
       "<Figure size 432x288 with 1 Axes>"
      ]
     },
     "metadata": {
      "needs_background": "light"
     },
     "output_type": "display_data"
    },
    {
     "data": {
      "image/png": "[encoded data removed]",
      "text/plain": [
       "<Figure size 432x288 with 1 Axes>"
      ]
     },
     "metadata": {
      "needs_background": "light"
     },
     "output_type": "display_data"
    },
    {
     "data": {
      "image/png": "[encoded data removed]",
      "text/plain": [
       "<Figure size 432x288 with 1 Axes>"
      ]
     },
     "metadata": {
      "needs_background": "light"
     },
     "output_type": "display_data"
    },
    {
     "data": {
      "image/png": "[encoded data removed]",
      "text/plain": [
       "<Figure size 432x288 with 1 Axes>"
      ]
     },
     "metadata": {
      "needs_background": "light"
     },
     "output_type": "display_data"
    },
    {
     "data": {
      "image/png": "[encoded data removed]",
      "text/plain": [
       "<Figure size 432x288 with 1 Axes>"
      ]
     },
     "metadata": {
      "needs_background": "light"
     },
     "output_type": "display_data"
    }
   ],
   "source": [
    "for c in col:\n",
    "    sns.distplot(data[c])\n",
    "    plt.show()"
   ]
  },
  {
   "cell_type": "code",
   "execution_count": 10,
   "id": "forbidden-marriage",
   "metadata": {
    "execution": {
     "iopub.execute_input": "2021-05-16T08:11:04.832738Z",
     "iopub.status.busy": "2021-05-16T08:11:04.819580Z",
     "iopub.status.idle": "2021-05-16T08:11:05.616018Z",
     "shell.execute_reply": "2021-05-16T08:11:05.616528Z"
    },
    "papermill": {
     "duration": 0.866842,
     "end_time": "2021-05-16T08:11:05.616698",
     "exception": false,
     "start_time": "2021-05-16T08:11:04.749856",
     "status": "completed"
    },
    "tags": []
   },
   "outputs": [
    {
     "data": {
      "image/png": "[encoded data removed]",
      "text/plain": [
       "<Figure size 720x720 with 2 Axes>"
      ]
     },
     "metadata": {
      "needs_background": "light"
     },
     "output_type": "display_data"
    }
   ],
   "source": [
    "plt.figure(figsize=(10,10))\n",
    "sns.heatmap(data.corr(),annot=True,fmt='.1f')\n",
    "plt.show()"
   ]
  },
  {
   "cell_type": "markdown",
   "id": "handled-vault",
   "metadata": {
    "papermill": {
     "duration": 0.065136,
     "end_time": "2021-05-16T08:11:05.747007",
     "exception": false,
     "start_time": "2021-05-16T08:11:05.681871",
     "status": "completed"
    },
    "tags": []
   },
   "source": [
    "* Exercise induced angina is negatively corelated with target variable\n",
    "* OLDPEAK (ST depression induced by exercise relative to rest) is negatively corelated with target variable"
   ]
  },
  {
   "cell_type": "markdown",
   "id": "focused-argentina",
   "metadata": {
    "papermill": {
     "duration": 0.064635,
     "end_time": "2021-05-16T08:11:05.876746",
     "exception": false,
     "start_time": "2021-05-16T08:11:05.812111",
     "status": "completed"
    },
    "tags": []
   },
   "source": [
    "## Train Test Split"
   ]
  },
  {
   "cell_type": "code",
   "execution_count": 11,
   "id": "massive-dressing",
   "metadata": {
    "execution": {
     "iopub.execute_input": "2021-05-16T08:11:06.009555Z",
     "iopub.status.busy": "2021-05-16T08:11:06.008891Z",
     "iopub.status.idle": "2021-05-16T08:11:06.013652Z",
     "shell.execute_reply": "2021-05-16T08:11:06.012924Z"
    },
    "papermill": {
     "duration": 0.072242,
     "end_time": "2021-05-16T08:11:06.013798",
     "exception": false,
     "start_time": "2021-05-16T08:11:05.941556",
     "status": "completed"
    },
    "tags": []
   },
   "outputs": [],
   "source": [
    "dataX=data.drop('target',axis=1)\n",
    "dataY=data['target']"
   ]
  },
  {
   "cell_type": "code",
   "execution_count": 12,
   "id": "hearing-order",
   "metadata": {
    "execution": {
     "iopub.execute_input": "2021-05-16T08:11:06.148944Z",
     "iopub.status.busy": "2021-05-16T08:11:06.148343Z",
     "iopub.status.idle": "2021-05-16T08:11:06.151301Z",
     "shell.execute_reply": "2021-05-16T08:11:06.151911Z"
    },
    "papermill": {
     "duration": 0.073906,
     "end_time": "2021-05-16T08:11:06.152116",
     "exception": false,
     "start_time": "2021-05-16T08:11:06.078210",
     "status": "completed"
    },
    "tags": []
   },
   "outputs": [],
   "source": [
    "X_train,X_test,y_train,y_test=train_test_split(dataX,dataY,test_size=0.2,random_state=42)"
   ]
  },
  {
   "cell_type": "markdown",
   "id": "capable-leader",
   "metadata": {
    "papermill": {
     "duration": 0.065541,
     "end_time": "2021-05-16T08:11:06.283084",
     "exception": false,
     "start_time": "2021-05-16T08:11:06.217543",
     "status": "completed"
    },
    "tags": []
   },
   "source": [
    "## Logistic Regression"
   ]
  },
  {
   "cell_type": "markdown",
   "id": "conventional-wildlife",
   "metadata": {
    "papermill": {
     "duration": 0.064854,
     "end_time": "2021-05-16T08:11:06.413593",
     "exception": false,
     "start_time": "2021-05-16T08:11:06.348739",
     "status": "completed"
    },
    "tags": []
   },
   "source": [
    "### Feature Scaling"
   ]
  },
  {
   "cell_type": "code",
   "execution_count": 13,
   "id": "centered-pickup",
   "metadata": {
    "execution": {
     "iopub.execute_input": "2021-05-16T08:11:06.552613Z",
     "iopub.status.busy": "2021-05-16T08:11:06.551878Z",
     "iopub.status.idle": "2021-05-16T08:11:06.572401Z",
     "shell.execute_reply": "2021-05-16T08:11:06.572892Z"
    },
    "papermill": {
     "duration": 0.094986,
     "end_time": "2021-05-16T08:11:06.573087",
     "exception": false,
     "start_time": "2021-05-16T08:11:06.478101",
     "status": "completed"
    },
    "tags": []
   },
   "outputs": [
    {
     "data": {
      "text/html": [
       "<div>\n",
       "<style scoped>\n",
       "    .dataframe tbody tr th:only-of-type {\n",
       "        vertical-align: middle;\n",
       "    }\n",
       "\n",
       "    .dataframe tbody tr th {\n",
       "        vertical-align: top;\n",
       "    }\n",
       "\n",
       "    .dataframe thead th {\n",
       "        text-align: right;\n",
       "    }\n",
       "</style>\n",
       "<table border=\"1\" class=\"dataframe\">\n",
       "  <thead>\n",
       "    <tr style=\"text-align: right;\">\n",
       "      <th></th>\n",
       "      <th>age</th>\n",
       "      <th>sex</th>\n",
       "      <th>cp</th>\n",
       "      <th>trestbps</th>\n",
       "      <th>chol</th>\n",
       "      <th>fbs</th>\n",
       "      <th>restecg</th>\n",
       "      <th>thalach</th>\n",
       "      <th>exang</th>\n",
       "      <th>oldpeak</th>\n",
       "      <th>slope</th>\n",
       "      <th>ca</th>\n",
       "      <th>thal</th>\n",
       "    </tr>\n",
       "  </thead>\n",
       "  <tbody>\n",
       "    <tr>\n",
       "      <th>132</th>\n",
       "      <td>-1.356798</td>\n",
       "      <td>0.722504</td>\n",
       "      <td>0.008099</td>\n",
       "      <td>-0.616856</td>\n",
       "      <td>0.914034</td>\n",
       "      <td>-0.383301</td>\n",
       "      <td>0.843133</td>\n",
       "      <td>0.532781</td>\n",
       "      <td>-0.676632</td>\n",
       "      <td>-0.920864</td>\n",
       "      <td>0.953905</td>\n",
       "      <td>-0.689701</td>\n",
       "      <td>-0.509048</td>\n",
       "    </tr>\n",
       "    <tr>\n",
       "      <th>202</th>\n",
       "      <td>0.385086</td>\n",
       "      <td>0.722504</td>\n",
       "      <td>-0.971891</td>\n",
       "      <td>1.169491</td>\n",
       "      <td>0.439527</td>\n",
       "      <td>-0.383301</td>\n",
       "      <td>-1.046109</td>\n",
       "      <td>-1.753582</td>\n",
       "      <td>1.477907</td>\n",
       "      <td>-0.193787</td>\n",
       "      <td>0.953905</td>\n",
       "      <td>-0.689701</td>\n",
       "      <td>1.178480</td>\n",
       "    </tr>\n",
       "    <tr>\n",
       "      <th>196</th>\n",
       "      <td>-0.921327</td>\n",
       "      <td>0.722504</td>\n",
       "      <td>0.988089</td>\n",
       "      <td>1.169491</td>\n",
       "      <td>-0.300704</td>\n",
       "      <td>-0.383301</td>\n",
       "      <td>0.843133</td>\n",
       "      <td>-0.139679</td>\n",
       "      <td>-0.676632</td>\n",
       "      <td>2.350982</td>\n",
       "      <td>-0.694988</td>\n",
       "      <td>-0.689701</td>\n",
       "      <td>-0.509048</td>\n",
       "    </tr>\n",
       "    <tr>\n",
       "      <th>75</th>\n",
       "      <td>0.058483</td>\n",
       "      <td>-1.384075</td>\n",
       "      <td>0.008099</td>\n",
       "      <td>0.276318</td>\n",
       "      <td>0.059921</td>\n",
       "      <td>-0.383301</td>\n",
       "      <td>-1.046109</td>\n",
       "      <td>0.487950</td>\n",
       "      <td>-0.676632</td>\n",
       "      <td>0.351521</td>\n",
       "      <td>-0.694988</td>\n",
       "      <td>-0.689701</td>\n",
       "      <td>-0.509048</td>\n",
       "    </tr>\n",
       "    <tr>\n",
       "      <th>176</th>\n",
       "      <td>0.602822</td>\n",
       "      <td>0.722504</td>\n",
       "      <td>-0.971891</td>\n",
       "      <td>-0.795490</td>\n",
       "      <td>-0.319684</td>\n",
       "      <td>2.608918</td>\n",
       "      <td>0.843133</td>\n",
       "      <td>0.443119</td>\n",
       "      <td>1.477907</td>\n",
       "      <td>0.351521</td>\n",
       "      <td>0.953905</td>\n",
       "      <td>1.333421</td>\n",
       "      <td>1.178480</td>\n",
       "    </tr>\n",
       "  </tbody>\n",
       "</table>\n",
       "</div>"
      ],
      "text/plain": [
       "          age       sex        cp  trestbps      chol       fbs   restecg  \\\n",
       "132 -1.356798  0.722504  0.008099 -0.616856  0.914034 -0.383301  0.843133   \n",
       "202  0.385086  0.722504 -0.971891  1.169491  0.439527 -0.383301 -1.046109   \n",
       "196 -0.921327  0.722504  0.988089  1.169491 -0.300704 -0.383301  0.843133   \n",
       "75   0.058483 -1.384075  0.008099  0.276318  0.059921 -0.383301 -1.046109   \n",
       "176  0.602822  0.722504 -0.971891 -0.795490 -0.319684  2.608918  0.843133   \n",
       "\n",
       "      thalach     exang   oldpeak     slope        ca      thal  \n",
       "132  0.532781 -0.676632 -0.920864  0.953905 -0.689701 -0.509048  \n",
       "202 -1.753582  1.477907 -0.193787  0.953905 -0.689701  1.178480  \n",
       "196 -0.139679 -0.676632  2.350982 -0.694988 -0.689701 -0.509048  \n",
       "75   0.487950 -0.676632  0.351521 -0.694988 -0.689701 -0.509048  \n",
       "176  0.443119  1.477907  0.351521  0.953905  1.333421  1.178480  "
      ]
     },
     "execution_count": 13,
     "metadata": {},
     "output_type": "execute_result"
    }
   ],
   "source": [
    "scaler = StandardScaler()\n",
    "X_train[['age','sex','cp','trestbps','chol','fbs','restecg','thalach','exang','oldpeak','slope','ca','thal']] = scaler.fit_transform(X_train[['age','sex','cp','trestbps','chol','fbs','restecg','thalach','exang','oldpeak','slope','ca','thal']])\n",
    "X_train.head()"
   ]
  },
  {
   "cell_type": "markdown",
   "id": "moderate-collapse",
   "metadata": {
    "papermill": {
     "duration": 0.064595,
     "end_time": "2021-05-16T08:11:06.702841",
     "exception": false,
     "start_time": "2021-05-16T08:11:06.638246",
     "status": "completed"
    },
    "tags": []
   },
   "source": [
    "## Model Building"
   ]
  },
  {
   "cell_type": "code",
   "execution_count": 14,
   "id": "therapeutic-elephant",
   "metadata": {
    "execution": {
     "iopub.execute_input": "2021-05-16T08:11:06.840407Z",
     "iopub.status.busy": "2021-05-16T08:11:06.839778Z",
     "iopub.status.idle": "2021-05-16T08:11:07.801017Z",
     "shell.execute_reply": "2021-05-16T08:11:07.800395Z"
    },
    "papermill": {
     "duration": 1.032606,
     "end_time": "2021-05-16T08:11:07.801187",
     "exception": false,
     "start_time": "2021-05-16T08:11:06.768581",
     "status": "completed"
    },
    "tags": []
   },
   "outputs": [
    {
     "data": {
      "text/html": [
       "<table class=\"simpletable\">\n",
       "<caption>Generalized Linear Model Regression Results</caption>\n",
       "<tr>\n",
       "  <th>Dep. Variable:</th>        <td>target</td>      <th>  No. Observations:  </th>  <td>   242</td> \n",
       "</tr>\n",
       "<tr>\n",
       "  <th>Model:</th>                  <td>GLM</td>       <th>  Df Residuals:      </th>  <td>   228</td> \n",
       "</tr>\n",
       "<tr>\n",
       "  <th>Model Family:</th>        <td>Binomial</td>     <th>  Df Model:          </th>  <td>    13</td> \n",
       "</tr>\n",
       "<tr>\n",
       "  <th>Link Function:</th>         <td>logit</td>      <th>  Scale:             </th> <td>  1.0000</td>\n",
       "</tr>\n",
       "<tr>\n",
       "  <th>Method:</th>                <td>IRLS</td>       <th>  Log-Likelihood:    </th> <td> -84.274</td>\n",
       "</tr>\n",
       "<tr>\n",
       "  <th>Date:</th>            <td>Sun, 16 May 2021</td> <th>  Deviance:          </th> <td>  168.55</td>\n",
       "</tr>\n",
       "<tr>\n",
       "  <th>Time:</th>                <td>08:11:07</td>     <th>  Pearson chi2:      </th>  <td>  223.</td> \n",
       "</tr>\n",
       "<tr>\n",
       "  <th>No. Iterations:</th>          <td>6</td>        <th>                     </th>     <td> </td>   \n",
       "</tr>\n",
       "<tr>\n",
       "  <th>Covariance Type:</th>     <td>nonrobust</td>    <th>                     </th>     <td> </td>   \n",
       "</tr>\n",
       "</table>\n",
       "<table class=\"simpletable\">\n",
       "<tr>\n",
       "      <td></td>        <th>coef</th>     <th>std err</th>      <th>z</th>      <th>P>|z|</th>  <th>[0.025</th>    <th>0.975]</th>  \n",
       "</tr>\n",
       "<tr>\n",
       "  <th>const</th>    <td>    0.1738</td> <td>    0.202</td> <td>    0.860</td> <td> 0.390</td> <td>   -0.222</td> <td>    0.570</td>\n",
       "</tr>\n",
       "<tr>\n",
       "  <th>age</th>      <td>   -0.0806</td> <td>    0.231</td> <td>   -0.349</td> <td> 0.727</td> <td>   -0.533</td> <td>    0.372</td>\n",
       "</tr>\n",
       "<tr>\n",
       "  <th>sex</th>      <td>   -0.8455</td> <td>    0.248</td> <td>   -3.411</td> <td> 0.001</td> <td>   -1.331</td> <td>   -0.360</td>\n",
       "</tr>\n",
       "<tr>\n",
       "  <th>cp</th>       <td>    0.8777</td> <td>    0.217</td> <td>    4.048</td> <td> 0.000</td> <td>    0.453</td> <td>    1.303</td>\n",
       "</tr>\n",
       "<tr>\n",
       "  <th>trestbps</th> <td>   -0.2964</td> <td>    0.196</td> <td>   -1.509</td> <td> 0.131</td> <td>   -0.681</td> <td>    0.089</td>\n",
       "</tr>\n",
       "<tr>\n",
       "  <th>chol</th>     <td>   -0.1986</td> <td>    0.215</td> <td>   -0.924</td> <td> 0.356</td> <td>   -0.620</td> <td>    0.223</td>\n",
       "</tr>\n",
       "<tr>\n",
       "  <th>fbs</th>      <td>    0.0984</td> <td>    0.213</td> <td>    0.461</td> <td> 0.645</td> <td>   -0.320</td> <td>    0.517</td>\n",
       "</tr>\n",
       "<tr>\n",
       "  <th>restecg</th>  <td>    0.3131</td> <td>    0.210</td> <td>    1.493</td> <td> 0.135</td> <td>   -0.098</td> <td>    0.724</td>\n",
       "</tr>\n",
       "<tr>\n",
       "  <th>thalach</th>  <td>    0.4172</td> <td>    0.271</td> <td>    1.542</td> <td> 0.123</td> <td>   -0.113</td> <td>    0.948</td>\n",
       "</tr>\n",
       "<tr>\n",
       "  <th>exang</th>    <td>   -0.5377</td> <td>    0.214</td> <td>   -2.513</td> <td> 0.012</td> <td>   -0.957</td> <td>   -0.118</td>\n",
       "</tr>\n",
       "<tr>\n",
       "  <th>oldpeak</th>  <td>   -0.7251</td> <td>    0.281</td> <td>   -2.576</td> <td> 0.010</td> <td>   -1.277</td> <td>   -0.173</td>\n",
       "</tr>\n",
       "<tr>\n",
       "  <th>slope</th>    <td>    0.4633</td> <td>    0.240</td> <td>    1.931</td> <td> 0.053</td> <td>   -0.007</td> <td>    0.934</td>\n",
       "</tr>\n",
       "<tr>\n",
       "  <th>ca</th>       <td>   -0.8476</td> <td>    0.225</td> <td>   -3.773</td> <td> 0.000</td> <td>   -1.288</td> <td>   -0.407</td>\n",
       "</tr>\n",
       "<tr>\n",
       "  <th>thal</th>     <td>   -0.5967</td> <td>    0.204</td> <td>   -2.928</td> <td> 0.003</td> <td>   -0.996</td> <td>   -0.197</td>\n",
       "</tr>\n",
       "</table>"
      ],
      "text/plain": [
       "<class 'statsmodels.iolib.summary.Summary'>\n",
       "\"\"\"\n",
       "                 Generalized Linear Model Regression Results                  \n",
       "==============================================================================\n",
       "Dep. Variable:                 target   No. Observations:                  242\n",
       "Model:                            GLM   Df Residuals:                      228\n",
       "Model Family:                Binomial   Df Model:                           13\n",
       "Link Function:                  logit   Scale:                          1.0000\n",
       "Method:                          IRLS   Log-Likelihood:                -84.274\n",
       "Date:                Sun, 16 May 2021   Deviance:                       168.55\n",
       "Time:                        08:11:07   Pearson chi2:                     223.\n",
       "No. Iterations:                     6                                         \n",
       "Covariance Type:            nonrobust                                         \n",
       "==============================================================================\n",
       "                 coef    std err          z      P>|z|      [0.025      0.975]\n",
       "------------------------------------------------------------------------------\n",
       "const          0.1738      0.202      0.860      0.390      -0.222       0.570\n",
       "age           -0.0806      0.231     -0.349      0.727      -0.533       0.372\n",
       "sex           -0.8455      0.248     -3.411      0.001      -1.331      -0.360\n",
       "cp             0.8777      0.217      4.048      0.000       0.453       1.303\n",
       "trestbps      -0.2964      0.196     -1.509      0.131      -0.681       0.089\n",
       "chol          -0.1986      0.215     -0.924      0.356      -0.620       0.223\n",
       "fbs            0.0984      0.213      0.461      0.645      -0.320       0.517\n",
       "restecg        0.3131      0.210      1.493      0.135      -0.098       0.724\n",
       "thalach        0.4172      0.271      1.542      0.123      -0.113       0.948\n",
       "exang         -0.5377      0.214     -2.513      0.012      -0.957      -0.118\n",
       "oldpeak       -0.7251      0.281     -2.576      0.010      -1.277      -0.173\n",
       "slope          0.4633      0.240      1.931      0.053      -0.007       0.934\n",
       "ca            -0.8476      0.225     -3.773      0.000      -1.288      -0.407\n",
       "thal          -0.5967      0.204     -2.928      0.003      -0.996      -0.197\n",
       "==============================================================================\n",
       "\"\"\""
      ]
     },
     "execution_count": 14,
     "metadata": {},
     "output_type": "execute_result"
    }
   ],
   "source": [
    "import statsmodels.api as sm\n",
    "# Logistic regression model\n",
    "logm1 = sm.GLM(y_train,(sm.add_constant(X_train)), family = sm.families.Binomial())\n",
    "logm1.fit().summary()"
   ]
  },
  {
   "cell_type": "code",
   "execution_count": 15,
   "id": "undefined-subject",
   "metadata": {
    "execution": {
     "iopub.execute_input": "2021-05-16T08:11:07.902788Z",
     "iopub.status.busy": "2021-05-16T08:11:07.902084Z",
     "iopub.status.idle": "2021-05-16T08:11:07.905320Z",
     "shell.execute_reply": "2021-05-16T08:11:07.904898Z"
    },
    "papermill": {
     "duration": 0.053064,
     "end_time": "2021-05-16T08:11:07.905431",
     "exception": false,
     "start_time": "2021-05-16T08:11:07.852367",
     "status": "completed"
    },
    "tags": []
   },
   "outputs": [],
   "source": [
    "col = X_train.columns"
   ]
  },
  {
   "cell_type": "code",
   "execution_count": 16,
   "id": "criminal-observation",
   "metadata": {
    "execution": {
     "iopub.execute_input": "2021-05-16T08:11:08.010759Z",
     "iopub.status.busy": "2021-05-16T08:11:08.010231Z",
     "iopub.status.idle": "2021-05-16T08:11:08.028395Z",
     "shell.execute_reply": "2021-05-16T08:11:08.028821Z"
    },
    "papermill": {
     "duration": 0.077542,
     "end_time": "2021-05-16T08:11:08.028964",
     "exception": false,
     "start_time": "2021-05-16T08:11:07.951422",
     "status": "completed"
    },
    "tags": []
   },
   "outputs": [
    {
     "data": {
      "text/html": [
       "<table class=\"simpletable\">\n",
       "<caption>Generalized Linear Model Regression Results</caption>\n",
       "<tr>\n",
       "  <th>Dep. Variable:</th>        <td>target</td>      <th>  No. Observations:  </th>  <td>   242</td> \n",
       "</tr>\n",
       "<tr>\n",
       "  <th>Model:</th>                  <td>GLM</td>       <th>  Df Residuals:      </th>  <td>   228</td> \n",
       "</tr>\n",
       "<tr>\n",
       "  <th>Model Family:</th>        <td>Binomial</td>     <th>  Df Model:          </th>  <td>    13</td> \n",
       "</tr>\n",
       "<tr>\n",
       "  <th>Link Function:</th>         <td>logit</td>      <th>  Scale:             </th> <td>  1.0000</td>\n",
       "</tr>\n",
       "<tr>\n",
       "  <th>Method:</th>                <td>IRLS</td>       <th>  Log-Likelihood:    </th> <td> -84.274</td>\n",
       "</tr>\n",
       "<tr>\n",
       "  <th>Date:</th>            <td>Sun, 16 May 2021</td> <th>  Deviance:          </th> <td>  168.55</td>\n",
       "</tr>\n",
       "<tr>\n",
       "  <th>Time:</th>                <td>08:11:08</td>     <th>  Pearson chi2:      </th>  <td>  223.</td> \n",
       "</tr>\n",
       "<tr>\n",
       "  <th>No. Iterations:</th>          <td>6</td>        <th>                     </th>     <td> </td>   \n",
       "</tr>\n",
       "<tr>\n",
       "  <th>Covariance Type:</th>     <td>nonrobust</td>    <th>                     </th>     <td> </td>   \n",
       "</tr>\n",
       "</table>\n",
       "<table class=\"simpletable\">\n",
       "<tr>\n",
       "      <td></td>        <th>coef</th>     <th>std err</th>      <th>z</th>      <th>P>|z|</th>  <th>[0.025</th>    <th>0.975]</th>  \n",
       "</tr>\n",
       "<tr>\n",
       "  <th>const</th>    <td>    0.1738</td> <td>    0.202</td> <td>    0.860</td> <td> 0.390</td> <td>   -0.222</td> <td>    0.570</td>\n",
       "</tr>\n",
       "<tr>\n",
       "  <th>age</th>      <td>   -0.0806</td> <td>    0.231</td> <td>   -0.349</td> <td> 0.727</td> <td>   -0.533</td> <td>    0.372</td>\n",
       "</tr>\n",
       "<tr>\n",
       "  <th>sex</th>      <td>   -0.8455</td> <td>    0.248</td> <td>   -3.411</td> <td> 0.001</td> <td>   -1.331</td> <td>   -0.360</td>\n",
       "</tr>\n",
       "<tr>\n",
       "  <th>cp</th>       <td>    0.8777</td> <td>    0.217</td> <td>    4.048</td> <td> 0.000</td> <td>    0.453</td> <td>    1.303</td>\n",
       "</tr>\n",
       "<tr>\n",
       "  <th>trestbps</th> <td>   -0.2964</td> <td>    0.196</td> <td>   -1.509</td> <td> 0.131</td> <td>   -0.681</td> <td>    0.089</td>\n",
       "</tr>\n",
       "<tr>\n",
       "  <th>chol</th>     <td>   -0.1986</td> <td>    0.215</td> <td>   -0.924</td> <td> 0.356</td> <td>   -0.620</td> <td>    0.223</td>\n",
       "</tr>\n",
       "<tr>\n",
       "  <th>fbs</th>      <td>    0.0984</td> <td>    0.213</td> <td>    0.461</td> <td> 0.645</td> <td>   -0.320</td> <td>    0.517</td>\n",
       "</tr>\n",
       "<tr>\n",
       "  <th>restecg</th>  <td>    0.3131</td> <td>    0.210</td> <td>    1.493</td> <td> 0.135</td> <td>   -0.098</td> <td>    0.724</td>\n",
       "</tr>\n",
       "<tr>\n",
       "  <th>thalach</th>  <td>    0.4172</td> <td>    0.271</td> <td>    1.542</td> <td> 0.123</td> <td>   -0.113</td> <td>    0.948</td>\n",
       "</tr>\n",
       "<tr>\n",
       "  <th>exang</th>    <td>   -0.5377</td> <td>    0.214</td> <td>   -2.513</td> <td> 0.012</td> <td>   -0.957</td> <td>   -0.118</td>\n",
       "</tr>\n",
       "<tr>\n",
       "  <th>oldpeak</th>  <td>   -0.7251</td> <td>    0.281</td> <td>   -2.576</td> <td> 0.010</td> <td>   -1.277</td> <td>   -0.173</td>\n",
       "</tr>\n",
       "<tr>\n",
       "  <th>slope</th>    <td>    0.4633</td> <td>    0.240</td> <td>    1.931</td> <td> 0.053</td> <td>   -0.007</td> <td>    0.934</td>\n",
       "</tr>\n",
       "<tr>\n",
       "  <th>ca</th>       <td>   -0.8476</td> <td>    0.225</td> <td>   -3.773</td> <td> 0.000</td> <td>   -1.288</td> <td>   -0.407</td>\n",
       "</tr>\n",
       "<tr>\n",
       "  <th>thal</th>     <td>   -0.5967</td> <td>    0.204</td> <td>   -2.928</td> <td> 0.003</td> <td>   -0.996</td> <td>   -0.197</td>\n",
       "</tr>\n",
       "</table>"
      ],
      "text/plain": [
       "<class 'statsmodels.iolib.summary.Summary'>\n",
       "\"\"\"\n",
       "                 Generalized Linear Model Regression Results                  \n",
       "==============================================================================\n",
       "Dep. Variable:                 target   No. Observations:                  242\n",
       "Model:                            GLM   Df Residuals:                      228\n",
       "Model Family:                Binomial   Df Model:                           13\n",
       "Link Function:                  logit   Scale:                          1.0000\n",
       "Method:                          IRLS   Log-Likelihood:                -84.274\n",
       "Date:                Sun, 16 May 2021   Deviance:                       168.55\n",
       "Time:                        08:11:08   Pearson chi2:                     223.\n",
       "No. Iterations:                     6                                         \n",
       "Covariance Type:            nonrobust                                         \n",
       "==============================================================================\n",
       "                 coef    std err          z      P>|z|      [0.025      0.975]\n",
       "------------------------------------------------------------------------------\n",
       "const          0.1738      0.202      0.860      0.390      -0.222       0.570\n",
       "age           -0.0806      0.231     -0.349      0.727      -0.533       0.372\n",
       "sex           -0.8455      0.248     -3.411      0.001      -1.331      -0.360\n",
       "cp             0.8777      0.217      4.048      0.000       0.453       1.303\n",
       "trestbps      -0.2964      0.196     -1.509      0.131      -0.681       0.089\n",
       "chol          -0.1986      0.215     -0.924      0.356      -0.620       0.223\n",
       "fbs            0.0984      0.213      0.461      0.645      -0.320       0.517\n",
       "restecg        0.3131      0.210      1.493      0.135      -0.098       0.724\n",
       "thalach        0.4172      0.271      1.542      0.123      -0.113       0.948\n",
       "exang         -0.5377      0.214     -2.513      0.012      -0.957      -0.118\n",
       "oldpeak       -0.7251      0.281     -2.576      0.010      -1.277      -0.173\n",
       "slope          0.4633      0.240      1.931      0.053      -0.007       0.934\n",
       "ca            -0.8476      0.225     -3.773      0.000      -1.288      -0.407\n",
       "thal          -0.5967      0.204     -2.928      0.003      -0.996      -0.197\n",
       "==============================================================================\n",
       "\"\"\""
      ]
     },
     "execution_count": 16,
     "metadata": {},
     "output_type": "execute_result"
    }
   ],
   "source": [
    "X_train_sm = sm.add_constant(X_train[col])\n",
    "logm2 = sm.GLM(y_train,X_train_sm, family = sm.families.Binomial())\n",
    "res = logm2.fit()\n",
    "res.summary()"
   ]
  },
  {
   "cell_type": "code",
   "execution_count": 17,
   "id": "major-storage",
   "metadata": {
    "execution": {
     "iopub.execute_input": "2021-05-16T08:11:08.125396Z",
     "iopub.status.busy": "2021-05-16T08:11:08.124774Z",
     "iopub.status.idle": "2021-05-16T08:11:08.131533Z",
     "shell.execute_reply": "2021-05-16T08:11:08.131978Z"
    },
    "papermill": {
     "duration": 0.056108,
     "end_time": "2021-05-16T08:11:08.132105",
     "exception": false,
     "start_time": "2021-05-16T08:11:08.075997",
     "status": "completed"
    },
    "tags": []
   },
   "outputs": [
    {
     "data": {
      "text/plain": [
       "132    0.923516\n",
       "202    0.039817\n",
       "196    0.403953\n",
       "75     0.853973\n",
       "176    0.058700\n",
       "59     0.832579\n",
       "93     0.833716\n",
       "6      0.805258\n",
       "177    0.929539\n",
       "30     0.984725\n",
       "dtype: float64"
      ]
     },
     "execution_count": 17,
     "metadata": {},
     "output_type": "execute_result"
    }
   ],
   "source": [
    "# Getting the predicted values on the train set\n",
    "y_train_pred = res.predict(X_train_sm)\n",
    "y_train_pred[:10]"
   ]
  },
  {
   "cell_type": "code",
   "execution_count": 18,
   "id": "endangered-match",
   "metadata": {
    "execution": {
     "iopub.execute_input": "2021-05-16T08:11:08.228706Z",
     "iopub.status.busy": "2021-05-16T08:11:08.228064Z",
     "iopub.status.idle": "2021-05-16T08:11:08.234577Z",
     "shell.execute_reply": "2021-05-16T08:11:08.235028Z"
    },
    "papermill": {
     "duration": 0.056196,
     "end_time": "2021-05-16T08:11:08.235189",
     "exception": false,
     "start_time": "2021-05-16T08:11:08.178993",
     "status": "completed"
    },
    "tags": []
   },
   "outputs": [
    {
     "data": {
      "text/plain": [
       "array([0.92351602, 0.03981688, 0.40395299, 0.85397266, 0.05870043,\n",
       "       0.83257889, 0.83371634, 0.80525791, 0.92953899, 0.98472548])"
      ]
     },
     "execution_count": 18,
     "metadata": {},
     "output_type": "execute_result"
    }
   ],
   "source": [
    "y_train_pred = y_train_pred.values.reshape(-1)\n",
    "y_train_pred[:10]"
   ]
  },
  {
   "cell_type": "code",
   "execution_count": 19,
   "id": "mexican-briefs",
   "metadata": {
    "execution": {
     "iopub.execute_input": "2021-05-16T08:11:08.333802Z",
     "iopub.status.busy": "2021-05-16T08:11:08.333076Z",
     "iopub.status.idle": "2021-05-16T08:11:08.344083Z",
     "shell.execute_reply": "2021-05-16T08:11:08.344556Z"
    },
    "papermill": {
     "duration": 0.061541,
     "end_time": "2021-05-16T08:11:08.344688",
     "exception": false,
     "start_time": "2021-05-16T08:11:08.283147",
     "status": "completed"
    },
    "tags": []
   },
   "outputs": [
    {
     "data": {
      "text/html": [
       "<div>\n",
       "<style scoped>\n",
       "    .dataframe tbody tr th:only-of-type {\n",
       "        vertical-align: middle;\n",
       "    }\n",
       "\n",
       "    .dataframe tbody tr th {\n",
       "        vertical-align: top;\n",
       "    }\n",
       "\n",
       "    .dataframe thead th {\n",
       "        text-align: right;\n",
       "    }\n",
       "</style>\n",
       "<table border=\"1\" class=\"dataframe\">\n",
       "  <thead>\n",
       "    <tr style=\"text-align: right;\">\n",
       "      <th></th>\n",
       "      <th>Diseased</th>\n",
       "      <th>Diseased_Prob</th>\n",
       "    </tr>\n",
       "  </thead>\n",
       "  <tbody>\n",
       "    <tr>\n",
       "      <th>0</th>\n",
       "      <td>1</td>\n",
       "      <td>0.923516</td>\n",
       "    </tr>\n",
       "    <tr>\n",
       "      <th>1</th>\n",
       "      <td>0</td>\n",
       "      <td>0.039817</td>\n",
       "    </tr>\n",
       "    <tr>\n",
       "      <th>2</th>\n",
       "      <td>0</td>\n",
       "      <td>0.403953</td>\n",
       "    </tr>\n",
       "    <tr>\n",
       "      <th>3</th>\n",
       "      <td>1</td>\n",
       "      <td>0.853973</td>\n",
       "    </tr>\n",
       "    <tr>\n",
       "      <th>4</th>\n",
       "      <td>0</td>\n",
       "      <td>0.058700</td>\n",
       "    </tr>\n",
       "    <tr>\n",
       "      <th>5</th>\n",
       "      <td>1</td>\n",
       "      <td>0.832579</td>\n",
       "    </tr>\n",
       "    <tr>\n",
       "      <th>6</th>\n",
       "      <td>1</td>\n",
       "      <td>0.833716</td>\n",
       "    </tr>\n",
       "    <tr>\n",
       "      <th>7</th>\n",
       "      <td>1</td>\n",
       "      <td>0.805258</td>\n",
       "    </tr>\n",
       "    <tr>\n",
       "      <th>8</th>\n",
       "      <td>0</td>\n",
       "      <td>0.929539</td>\n",
       "    </tr>\n",
       "    <tr>\n",
       "      <th>9</th>\n",
       "      <td>1</td>\n",
       "      <td>0.984725</td>\n",
       "    </tr>\n",
       "    <tr>\n",
       "      <th>10</th>\n",
       "      <td>1</td>\n",
       "      <td>0.862629</td>\n",
       "    </tr>\n",
       "    <tr>\n",
       "      <th>11</th>\n",
       "      <td>0</td>\n",
       "      <td>0.476163</td>\n",
       "    </tr>\n",
       "  </tbody>\n",
       "</table>\n",
       "</div>"
      ],
      "text/plain": [
       "    Diseased  Diseased_Prob\n",
       "0          1       0.923516\n",
       "1          0       0.039817\n",
       "2          0       0.403953\n",
       "3          1       0.853973\n",
       "4          0       0.058700\n",
       "5          1       0.832579\n",
       "6          1       0.833716\n",
       "7          1       0.805258\n",
       "8          0       0.929539\n",
       "9          1       0.984725\n",
       "10         1       0.862629\n",
       "11         0       0.476163"
      ]
     },
     "execution_count": 19,
     "metadata": {},
     "output_type": "execute_result"
    }
   ],
   "source": [
    "y_train_pred_final = pd.DataFrame({'Diseased':y_train.values, 'Diseased_Prob':y_train_pred})\n",
    "#y_train_pred_final['CustID'] = y_train.index\n",
    "y_train_pred_final.head(12)"
   ]
  },
  {
   "cell_type": "markdown",
   "id": "ranging-rapid",
   "metadata": {
    "papermill": {
     "duration": 0.04742,
     "end_time": "2021-05-16T08:11:08.439693",
     "exception": false,
     "start_time": "2021-05-16T08:11:08.392273",
     "status": "completed"
    },
    "tags": []
   },
   "source": [
    "##### Creating new column 'Predicted' with 1 if Diseased_Prob > 0.50 else 0"
   ]
  },
  {
   "cell_type": "code",
   "execution_count": 20,
   "id": "funny-steel",
   "metadata": {
    "execution": {
     "iopub.execute_input": "2021-05-16T08:11:08.538230Z",
     "iopub.status.busy": "2021-05-16T08:11:08.537587Z",
     "iopub.status.idle": "2021-05-16T08:11:08.549093Z",
     "shell.execute_reply": "2021-05-16T08:11:08.549573Z"
    },
    "papermill": {
     "duration": 0.062143,
     "end_time": "2021-05-16T08:11:08.549701",
     "exception": false,
     "start_time": "2021-05-16T08:11:08.487558",
     "status": "completed"
    },
    "tags": []
   },
   "outputs": [
    {
     "data": {
      "text/html": [
       "<div>\n",
       "<style scoped>\n",
       "    .dataframe tbody tr th:only-of-type {\n",
       "        vertical-align: middle;\n",
       "    }\n",
       "\n",
       "    .dataframe tbody tr th {\n",
       "        vertical-align: top;\n",
       "    }\n",
       "\n",
       "    .dataframe thead th {\n",
       "        text-align: right;\n",
       "    }\n",
       "</style>\n",
       "<table border=\"1\" class=\"dataframe\">\n",
       "  <thead>\n",
       "    <tr style=\"text-align: right;\">\n",
       "      <th></th>\n",
       "      <th>Diseased</th>\n",
       "      <th>Diseased_Prob</th>\n",
       "      <th>predicted</th>\n",
       "    </tr>\n",
       "  </thead>\n",
       "  <tbody>\n",
       "    <tr>\n",
       "      <th>0</th>\n",
       "      <td>1</td>\n",
       "      <td>0.923516</td>\n",
       "      <td>1</td>\n",
       "    </tr>\n",
       "    <tr>\n",
       "      <th>1</th>\n",
       "      <td>0</td>\n",
       "      <td>0.039817</td>\n",
       "      <td>0</td>\n",
       "    </tr>\n",
       "    <tr>\n",
       "      <th>2</th>\n",
       "      <td>0</td>\n",
       "      <td>0.403953</td>\n",
       "      <td>0</td>\n",
       "    </tr>\n",
       "    <tr>\n",
       "      <th>3</th>\n",
       "      <td>1</td>\n",
       "      <td>0.853973</td>\n",
       "      <td>1</td>\n",
       "    </tr>\n",
       "    <tr>\n",
       "      <th>4</th>\n",
       "      <td>0</td>\n",
       "      <td>0.058700</td>\n",
       "      <td>0</td>\n",
       "    </tr>\n",
       "  </tbody>\n",
       "</table>\n",
       "</div>"
      ],
      "text/plain": [
       "   Diseased  Diseased_Prob  predicted\n",
       "0         1       0.923516          1\n",
       "1         0       0.039817          0\n",
       "2         0       0.403953          0\n",
       "3         1       0.853973          1\n",
       "4         0       0.058700          0"
      ]
     },
     "execution_count": 20,
     "metadata": {},
     "output_type": "execute_result"
    }
   ],
   "source": [
    "y_train_pred_final['predicted'] = y_train_pred_final.Diseased_Prob.map(lambda x: 1 if x > 0.50 else 0)\n",
    "\n",
    "# Let's see the head\n",
    "y_train_pred_final.head()"
   ]
  },
  {
   "cell_type": "code",
   "execution_count": 21,
   "id": "whole-fellow",
   "metadata": {
    "execution": {
     "iopub.execute_input": "2021-05-16T08:11:08.649646Z",
     "iopub.status.busy": "2021-05-16T08:11:08.648967Z",
     "iopub.status.idle": "2021-05-16T08:11:08.653377Z",
     "shell.execute_reply": "2021-05-16T08:11:08.653770Z"
    },
    "papermill": {
     "duration": 0.055978,
     "end_time": "2021-05-16T08:11:08.653929",
     "exception": false,
     "start_time": "2021-05-16T08:11:08.597951",
     "status": "completed"
    },
    "tags": []
   },
   "outputs": [],
   "source": [
    "from sklearn import metrics"
   ]
  },
  {
   "cell_type": "code",
   "execution_count": 22,
   "id": "parental-nudist",
   "metadata": {
    "execution": {
     "iopub.execute_input": "2021-05-16T08:11:08.753347Z",
     "iopub.status.busy": "2021-05-16T08:11:08.752687Z",
     "iopub.status.idle": "2021-05-16T08:11:08.764679Z",
     "shell.execute_reply": "2021-05-16T08:11:08.764090Z"
    },
    "papermill": {
     "duration": 0.062764,
     "end_time": "2021-05-16T08:11:08.764806",
     "exception": false,
     "start_time": "2021-05-16T08:11:08.702042",
     "status": "completed"
    },
    "tags": []
   },
   "outputs": [
    {
     "name": "stdout",
     "output_type": "stream",
     "text": [
      "[[ 87  22]\n",
      " [ 11 122]]\n"
     ]
    }
   ],
   "source": [
    "# Confusion matrix \n",
    "confusion = metrics.confusion_matrix(y_train_pred_final.Diseased, y_train_pred_final.predicted )\n",
    "print(confusion)"
   ]
  },
  {
   "cell_type": "code",
   "execution_count": 23,
   "id": "metropolitan-terry",
   "metadata": {
    "execution": {
     "iopub.execute_input": "2021-05-16T08:11:08.910468Z",
     "iopub.status.busy": "2021-05-16T08:11:08.909615Z",
     "iopub.status.idle": "2021-05-16T08:11:08.911259Z",
     "shell.execute_reply": "2021-05-16T08:11:08.911623Z"
    },
    "papermill": {
     "duration": 0.076025,
     "end_time": "2021-05-16T08:11:08.911778",
     "exception": false,
     "start_time": "2021-05-16T08:11:08.835753",
     "status": "completed"
    },
    "tags": []
   },
   "outputs": [],
   "source": [
    "# Predicted     not_diseased  diseased\n",
    "# Actual\n",
    "# not_diseased      87(TN)      22(FP)\n",
    "# disease          11 (FN)         122(TP)  "
   ]
  },
  {
   "cell_type": "code",
   "execution_count": 24,
   "id": "personalized-shaft",
   "metadata": {
    "execution": {
     "iopub.execute_input": "2021-05-16T08:11:09.007474Z",
     "iopub.status.busy": "2021-05-16T08:11:09.006949Z",
     "iopub.status.idle": "2021-05-16T08:11:09.012717Z",
     "shell.execute_reply": "2021-05-16T08:11:09.013377Z"
    },
    "papermill": {
     "duration": 0.056948,
     "end_time": "2021-05-16T08:11:09.013566",
     "exception": false,
     "start_time": "2021-05-16T08:11:08.956618",
     "status": "completed"
    },
    "tags": []
   },
   "outputs": [
    {
     "name": "stdout",
     "output_type": "stream",
     "text": [
      "0.8636363636363636\n"
     ]
    }
   ],
   "source": [
    "# Let's check the overall accuracy.\n",
    "print(metrics.accuracy_score(y_train_pred_final.Diseased, y_train_pred_final.predicted))"
   ]
  },
  {
   "cell_type": "markdown",
   "id": "alone-error",
   "metadata": {
    "papermill": {
     "duration": 0.046435,
     "end_time": "2021-05-16T08:11:09.106505",
     "exception": false,
     "start_time": "2021-05-16T08:11:09.060070",
     "status": "completed"
    },
    "tags": []
   },
   "source": [
    "### Checking VIF\n"
   ]
  },
  {
   "cell_type": "code",
   "execution_count": 25,
   "id": "conservative-italic",
   "metadata": {
    "collapsed": true,
    "execution": {
     "iopub.execute_input": "2021-05-16T08:11:09.207239Z",
     "iopub.status.busy": "2021-05-16T08:11:09.206554Z",
     "iopub.status.idle": "2021-05-16T08:11:09.236981Z",
     "shell.execute_reply": "2021-05-16T08:11:09.237377Z"
    },
    "jupyter": {
     "outputs_hidden": true
    },
    "papermill": {
     "duration": 0.084447,
     "end_time": "2021-05-16T08:11:09.237516",
     "exception": false,
     "start_time": "2021-05-16T08:11:09.153069",
     "status": "completed"
    },
    "tags": []
   },
   "outputs": [
    {
     "data": {
      "text/html": [
       "<div>\n",
       "<style scoped>\n",
       "    .dataframe tbody tr th:only-of-type {\n",
       "        vertical-align: middle;\n",
       "    }\n",
       "\n",
       "    .dataframe tbody tr th {\n",
       "        vertical-align: top;\n",
       "    }\n",
       "\n",
       "    .dataframe thead th {\n",
       "        text-align: right;\n",
       "    }\n",
       "</style>\n",
       "<table border=\"1\" class=\"dataframe\">\n",
       "  <thead>\n",
       "    <tr style=\"text-align: right;\">\n",
       "      <th></th>\n",
       "      <th>Features</th>\n",
       "      <th>VIF</th>\n",
       "    </tr>\n",
       "  </thead>\n",
       "  <tbody>\n",
       "    <tr>\n",
       "      <th>9</th>\n",
       "      <td>oldpeak</td>\n",
       "      <td>1.75</td>\n",
       "    </tr>\n",
       "    <tr>\n",
       "      <th>7</th>\n",
       "      <td>thalach</td>\n",
       "      <td>1.57</td>\n",
       "    </tr>\n",
       "    <tr>\n",
       "      <th>10</th>\n",
       "      <td>slope</td>\n",
       "      <td>1.57</td>\n",
       "    </tr>\n",
       "    <tr>\n",
       "      <th>0</th>\n",
       "      <td>age</td>\n",
       "      <td>1.49</td>\n",
       "    </tr>\n",
       "    <tr>\n",
       "      <th>8</th>\n",
       "      <td>exang</td>\n",
       "      <td>1.42</td>\n",
       "    </tr>\n",
       "    <tr>\n",
       "      <th>2</th>\n",
       "      <td>cp</td>\n",
       "      <td>1.27</td>\n",
       "    </tr>\n",
       "    <tr>\n",
       "      <th>11</th>\n",
       "      <td>ca</td>\n",
       "      <td>1.22</td>\n",
       "    </tr>\n",
       "    <tr>\n",
       "      <th>1</th>\n",
       "      <td>sex</td>\n",
       "      <td>1.21</td>\n",
       "    </tr>\n",
       "    <tr>\n",
       "      <th>4</th>\n",
       "      <td>chol</td>\n",
       "      <td>1.19</td>\n",
       "    </tr>\n",
       "    <tr>\n",
       "      <th>3</th>\n",
       "      <td>trestbps</td>\n",
       "      <td>1.16</td>\n",
       "    </tr>\n",
       "    <tr>\n",
       "      <th>12</th>\n",
       "      <td>thal</td>\n",
       "      <td>1.16</td>\n",
       "    </tr>\n",
       "    <tr>\n",
       "      <th>5</th>\n",
       "      <td>fbs</td>\n",
       "      <td>1.11</td>\n",
       "    </tr>\n",
       "    <tr>\n",
       "      <th>6</th>\n",
       "      <td>restecg</td>\n",
       "      <td>1.05</td>\n",
       "    </tr>\n",
       "  </tbody>\n",
       "</table>\n",
       "</div>"
      ],
      "text/plain": [
       "    Features   VIF\n",
       "9    oldpeak  1.75\n",
       "7    thalach  1.57\n",
       "10     slope  1.57\n",
       "0        age  1.49\n",
       "8      exang  1.42\n",
       "2         cp  1.27\n",
       "11        ca  1.22\n",
       "1        sex  1.21\n",
       "4       chol  1.19\n",
       "3   trestbps  1.16\n",
       "12      thal  1.16\n",
       "5        fbs  1.11\n",
       "6    restecg  1.05"
      ]
     },
     "execution_count": 25,
     "metadata": {},
     "output_type": "execute_result"
    }
   ],
   "source": [
    " \n",
    "from statsmodels.stats.outliers_influence import variance_inflation_factor\n",
    "# Create a dataframe that will contain the names of all the feature variables and their respective VIFs\n",
    "vif = pd.DataFrame()\n",
    "vif['Features'] = X_train[col].columns\n",
    "vif['VIF'] = [variance_inflation_factor(X_train[col].values, i) for i in range(X_train[col].shape[1])]\n",
    "vif['VIF'] = round(vif['VIF'], 2)\n",
    "vif = vif.sort_values(by = \"VIF\", ascending = False)\n",
    "vif"
   ]
  },
  {
   "cell_type": "markdown",
   "id": "cultural-phenomenon",
   "metadata": {
    "papermill": {
     "duration": 0.049637,
     "end_time": "2021-05-16T08:11:09.336343",
     "exception": false,
     "start_time": "2021-05-16T08:11:09.286706",
     "status": "completed"
    },
    "tags": []
   },
   "source": [
    "## Metrics beyond simply accuracy\n"
   ]
  },
  {
   "cell_type": "code",
   "execution_count": 26,
   "id": "national-syndication",
   "metadata": {
    "execution": {
     "iopub.execute_input": "2021-05-16T08:11:09.440497Z",
     "iopub.status.busy": "2021-05-16T08:11:09.439807Z",
     "iopub.status.idle": "2021-05-16T08:11:09.442158Z",
     "shell.execute_reply": "2021-05-16T08:11:09.441776Z"
    },
    "papermill": {
     "duration": 0.056573,
     "end_time": "2021-05-16T08:11:09.442284",
     "exception": false,
     "start_time": "2021-05-16T08:11:09.385711",
     "status": "completed"
    },
    "tags": []
   },
   "outputs": [],
   "source": [
    "TP = confusion[1,1] # true positive \n",
    "TN = confusion[0,0] # true negatives\n",
    "FP = confusion[0,1] # false positives\n",
    "FN = confusion[1,0] # false negatives"
   ]
  },
  {
   "cell_type": "code",
   "execution_count": 27,
   "id": "designed-muscle",
   "metadata": {
    "execution": {
     "iopub.execute_input": "2021-05-16T08:11:09.546353Z",
     "iopub.status.busy": "2021-05-16T08:11:09.545602Z",
     "iopub.status.idle": "2021-05-16T08:11:09.549564Z",
     "shell.execute_reply": "2021-05-16T08:11:09.549107Z"
    },
    "papermill": {
     "duration": 0.057149,
     "end_time": "2021-05-16T08:11:09.549659",
     "exception": false,
     "start_time": "2021-05-16T08:11:09.492510",
     "status": "completed"
    },
    "tags": []
   },
   "outputs": [
    {
     "data": {
      "text/plain": [
       "0.9172932330827067"
      ]
     },
     "execution_count": 27,
     "metadata": {},
     "output_type": "execute_result"
    }
   ],
   "source": [
    "# Let's see the sensitivity of our logistic regression model\n",
    "TP / float(TP+FN)"
   ]
  },
  {
   "cell_type": "code",
   "execution_count": 28,
   "id": "alternate-dynamics",
   "metadata": {
    "execution": {
     "iopub.execute_input": "2021-05-16T08:11:09.653515Z",
     "iopub.status.busy": "2021-05-16T08:11:09.652983Z",
     "iopub.status.idle": "2021-05-16T08:11:09.655802Z",
     "shell.execute_reply": "2021-05-16T08:11:09.655352Z"
    },
    "papermill": {
     "duration": 0.056599,
     "end_time": "2021-05-16T08:11:09.655910",
     "exception": false,
     "start_time": "2021-05-16T08:11:09.599311",
     "status": "completed"
    },
    "tags": []
   },
   "outputs": [
    {
     "data": {
      "text/plain": [
       "0.7981651376146789"
      ]
     },
     "execution_count": 28,
     "metadata": {},
     "output_type": "execute_result"
    }
   ],
   "source": [
    "# Let us calculate specificity\n",
    "TN / float(TN+FP)"
   ]
  },
  {
   "cell_type": "code",
   "execution_count": 29,
   "id": "arabic-girlfriend",
   "metadata": {
    "execution": {
     "iopub.execute_input": "2021-05-16T08:11:09.760892Z",
     "iopub.status.busy": "2021-05-16T08:11:09.760402Z",
     "iopub.status.idle": "2021-05-16T08:11:09.762328Z",
     "shell.execute_reply": "2021-05-16T08:11:09.762810Z"
    },
    "papermill": {
     "duration": 0.057281,
     "end_time": "2021-05-16T08:11:09.762969",
     "exception": false,
     "start_time": "2021-05-16T08:11:09.705688",
     "status": "completed"
    },
    "tags": []
   },
   "outputs": [
    {
     "name": "stdout",
     "output_type": "stream",
     "text": [
      "0.11224489795918367\n"
     ]
    }
   ],
   "source": [
    "#  predicting non disease when person has disease\n",
    "print(FN/ float(TN+FN))"
   ]
  },
  {
   "cell_type": "code",
   "execution_count": 30,
   "id": "dental-plant",
   "metadata": {
    "execution": {
     "iopub.execute_input": "2021-05-16T08:11:09.870684Z",
     "iopub.status.busy": "2021-05-16T08:11:09.870210Z",
     "iopub.status.idle": "2021-05-16T08:11:09.875636Z",
     "shell.execute_reply": "2021-05-16T08:11:09.875200Z"
    },
    "papermill": {
     "duration": 0.059419,
     "end_time": "2021-05-16T08:11:09.875734",
     "exception": false,
     "start_time": "2021-05-16T08:11:09.816315",
     "status": "completed"
    },
    "tags": []
   },
   "outputs": [
    {
     "name": "stdout",
     "output_type": "stream",
     "text": [
      "0.8472222222222222\n"
     ]
    }
   ],
   "source": [
    "# positive predictive value \n",
    "print (TP / float(TP+FP))"
   ]
  },
  {
   "cell_type": "code",
   "execution_count": 31,
   "id": "cardiac-porter",
   "metadata": {
    "execution": {
     "iopub.execute_input": "2021-05-16T08:11:09.983632Z",
     "iopub.status.busy": "2021-05-16T08:11:09.983055Z",
     "iopub.status.idle": "2021-05-16T08:11:09.987051Z",
     "shell.execute_reply": "2021-05-16T08:11:09.987433Z"
    },
    "papermill": {
     "duration": 0.060347,
     "end_time": "2021-05-16T08:11:09.987596",
     "exception": false,
     "start_time": "2021-05-16T08:11:09.927249",
     "status": "completed"
    },
    "tags": []
   },
   "outputs": [
    {
     "name": "stdout",
     "output_type": "stream",
     "text": [
      "0.8877551020408163\n"
     ]
    }
   ],
   "source": [
    "# Negative predictive value\n",
    "print (TN / float(TN+ FN))"
   ]
  },
  {
   "cell_type": "markdown",
   "id": "therapeutic-immunology",
   "metadata": {
    "papermill": {
     "duration": 0.050803,
     "end_time": "2021-05-16T08:11:10.090270",
     "exception": false,
     "start_time": "2021-05-16T08:11:10.039467",
     "status": "completed"
    },
    "tags": []
   },
   "source": [
    "### Plotting the ROC Curve"
   ]
  },
  {
   "cell_type": "markdown",
   "id": "fatty-artist",
   "metadata": {
    "papermill": {
     "duration": 0.050919,
     "end_time": "2021-05-16T08:11:10.193266",
     "exception": false,
     "start_time": "2021-05-16T08:11:10.142347",
     "status": "completed"
    },
    "tags": []
   },
   "source": [
    "An ROC curve demonstrates several things:\n",
    "\n",
    "- It shows the tradeoff between sensitivity and specificity (any increase in sensitivity will be accompanied by a decrease in specificity).\n",
    "- The closer the curve follows the left-hand border and then the top border of the ROC space, the more accurate the test.\n",
    "- The closer the curve comes to the 45-degree diagonal of the ROC space, the less accurate the test."
   ]
  },
  {
   "cell_type": "code",
   "execution_count": 32,
   "id": "closing-omaha",
   "metadata": {
    "execution": {
     "iopub.execute_input": "2021-05-16T08:11:10.304240Z",
     "iopub.status.busy": "2021-05-16T08:11:10.303717Z",
     "iopub.status.idle": "2021-05-16T08:11:10.306307Z",
     "shell.execute_reply": "2021-05-16T08:11:10.306795Z"
    },
    "papermill": {
     "duration": 0.062417,
     "end_time": "2021-05-16T08:11:10.306968",
     "exception": false,
     "start_time": "2021-05-16T08:11:10.244551",
     "status": "completed"
    },
    "tags": []
   },
   "outputs": [],
   "source": [
    "def draw_roc( actual, probs ):\n",
    "    fpr, tpr, thresholds = metrics.roc_curve( actual, probs,\n",
    "                                              drop_intermediate = False )\n",
    "    auc_score = metrics.roc_auc_score( actual, probs )\n",
    "    plt.figure(figsize=(5, 5))\n",
    "    plt.plot( fpr, tpr, label='ROC curve (area = %0.2f)' % auc_score )\n",
    "    plt.plot([0, 1], [0, 1], 'k--')\n",
    "    plt.xlim([0.0, 1.0])\n",
    "    plt.ylim([0.0, 1.05])\n",
    "    plt.xlabel('False Positive Rate or [1 - True Negative Rate]')\n",
    "    plt.ylabel('True Positive Rate')\n",
    "    plt.title('Receiver operating characteristic example')\n",
    "    plt.legend(loc=\"lower right\")\n",
    "    plt.show()\n",
    "\n",
    "    return None"
   ]
  },
  {
   "cell_type": "code",
   "execution_count": 33,
   "id": "dedicated-oklahoma",
   "metadata": {
    "execution": {
     "iopub.execute_input": "2021-05-16T08:11:10.463033Z",
     "iopub.status.busy": "2021-05-16T08:11:10.462350Z",
     "iopub.status.idle": "2021-05-16T08:11:10.465065Z",
     "shell.execute_reply": "2021-05-16T08:11:10.464535Z"
    },
    "papermill": {
     "duration": 0.082889,
     "end_time": "2021-05-16T08:11:10.465217",
     "exception": false,
     "start_time": "2021-05-16T08:11:10.382328",
     "status": "completed"
    },
    "tags": []
   },
   "outputs": [],
   "source": [
    "fpr, tpr, thresholds = metrics.roc_curve( y_train_pred_final.Diseased, y_train_pred_final.Diseased_Prob, drop_intermediate = False )"
   ]
  },
  {
   "cell_type": "code",
   "execution_count": 34,
   "id": "knowing-replication",
   "metadata": {
    "execution": {
     "iopub.execute_input": "2021-05-16T08:11:10.623109Z",
     "iopub.status.busy": "2021-05-16T08:11:10.621787Z",
     "iopub.status.idle": "2021-05-16T08:11:10.780285Z",
     "shell.execute_reply": "2021-05-16T08:11:10.779840Z"
    },
    "papermill": {
     "duration": 0.239005,
     "end_time": "2021-05-16T08:11:10.780395",
     "exception": false,
     "start_time": "2021-05-16T08:11:10.541390",
     "status": "completed"
    },
    "tags": []
   },
   "outputs": [
    {
     "data": {
      "image/png": "[encoded data removed]",
      "text/plain": [
       "<Figure size 360x360 with 1 Axes>"
      ]
     },
     "metadata": {
      "needs_background": "light"
     },
     "output_type": "display_data"
    }
   ],
   "source": [
    "draw_roc(y_train_pred_final.Diseased, y_train_pred_final.Diseased_Prob)"
   ]
  },
  {
   "cell_type": "markdown",
   "id": "welsh-first",
   "metadata": {
    "papermill": {
     "duration": 0.114409,
     "end_time": "2021-05-16T08:11:10.948471",
     "exception": false,
     "start_time": "2021-05-16T08:11:10.834062",
     "status": "completed"
    },
    "tags": []
   },
   "source": [
    "### Finding Optimal Cutoff Point\n",
    "Optimal cutoff probability is that prob where we get balanced sensitivity and specificity"
   ]
  },
  {
   "cell_type": "code",
   "execution_count": 35,
   "id": "racial-journey",
   "metadata": {
    "execution": {
     "iopub.execute_input": "2021-05-16T08:11:11.078214Z",
     "iopub.status.busy": "2021-05-16T08:11:11.069266Z",
     "iopub.status.idle": "2021-05-16T08:11:11.083332Z",
     "shell.execute_reply": "2021-05-16T08:11:11.082809Z"
    },
    "papermill": {
     "duration": 0.082927,
     "end_time": "2021-05-16T08:11:11.083444",
     "exception": false,
     "start_time": "2021-05-16T08:11:11.000517",
     "status": "completed"
    },
    "tags": []
   },
   "outputs": [
    {
     "data": {
      "text/html": [
       "<div>\n",
       "<style scoped>\n",
       "    .dataframe tbody tr th:only-of-type {\n",
       "        vertical-align: middle;\n",
       "    }\n",
       "\n",
       "    .dataframe tbody tr th {\n",
       "        vertical-align: top;\n",
       "    }\n",
       "\n",
       "    .dataframe thead th {\n",
       "        text-align: right;\n",
       "    }\n",
       "</style>\n",
       "<table border=\"1\" class=\"dataframe\">\n",
       "  <thead>\n",
       "    <tr style=\"text-align: right;\">\n",
       "      <th></th>\n",
       "      <th>Diseased</th>\n",
       "      <th>Diseased_Prob</th>\n",
       "      <th>predicted</th>\n",
       "      <th>0.0</th>\n",
       "      <th>0.1</th>\n",
       "      <th>0.2</th>\n",
       "      <th>0.3</th>\n",
       "      <th>0.4</th>\n",
       "      <th>0.5</th>\n",
       "      <th>0.6</th>\n",
       "      <th>0.7</th>\n",
       "      <th>0.8</th>\n",
       "      <th>0.9</th>\n",
       "    </tr>\n",
       "  </thead>\n",
       "  <tbody>\n",
       "    <tr>\n",
       "      <th>0</th>\n",
       "      <td>1</td>\n",
       "      <td>0.923516</td>\n",
       "      <td>1</td>\n",
       "      <td>1</td>\n",
       "      <td>1</td>\n",
       "      <td>1</td>\n",
       "      <td>1</td>\n",
       "      <td>1</td>\n",
       "      <td>1</td>\n",
       "      <td>1</td>\n",
       "      <td>1</td>\n",
       "      <td>1</td>\n",
       "      <td>1</td>\n",
       "    </tr>\n",
       "    <tr>\n",
       "      <th>1</th>\n",
       "      <td>0</td>\n",
       "      <td>0.039817</td>\n",
       "      <td>0</td>\n",
       "      <td>1</td>\n",
       "      <td>0</td>\n",
       "      <td>0</td>\n",
       "      <td>0</td>\n",
       "      <td>0</td>\n",
       "      <td>0</td>\n",
       "      <td>0</td>\n",
       "      <td>0</td>\n",
       "      <td>0</td>\n",
       "      <td>0</td>\n",
       "    </tr>\n",
       "    <tr>\n",
       "      <th>2</th>\n",
       "      <td>0</td>\n",
       "      <td>0.403953</td>\n",
       "      <td>0</td>\n",
       "      <td>1</td>\n",
       "      <td>1</td>\n",
       "      <td>1</td>\n",
       "      <td>1</td>\n",
       "      <td>1</td>\n",
       "      <td>0</td>\n",
       "      <td>0</td>\n",
       "      <td>0</td>\n",
       "      <td>0</td>\n",
       "      <td>0</td>\n",
       "    </tr>\n",
       "    <tr>\n",
       "      <th>3</th>\n",
       "      <td>1</td>\n",
       "      <td>0.853973</td>\n",
       "      <td>1</td>\n",
       "      <td>1</td>\n",
       "      <td>1</td>\n",
       "      <td>1</td>\n",
       "      <td>1</td>\n",
       "      <td>1</td>\n",
       "      <td>1</td>\n",
       "      <td>1</td>\n",
       "      <td>1</td>\n",
       "      <td>1</td>\n",
       "      <td>0</td>\n",
       "    </tr>\n",
       "    <tr>\n",
       "      <th>4</th>\n",
       "      <td>0</td>\n",
       "      <td>0.058700</td>\n",
       "      <td>0</td>\n",
       "      <td>1</td>\n",
       "      <td>0</td>\n",
       "      <td>0</td>\n",
       "      <td>0</td>\n",
       "      <td>0</td>\n",
       "      <td>0</td>\n",
       "      <td>0</td>\n",
       "      <td>0</td>\n",
       "      <td>0</td>\n",
       "      <td>0</td>\n",
       "    </tr>\n",
       "  </tbody>\n",
       "</table>\n",
       "</div>"
      ],
      "text/plain": [
       "   Diseased  Diseased_Prob  predicted  0.0  0.1  0.2  0.3  0.4  0.5  0.6  0.7  \\\n",
       "0         1       0.923516          1    1    1    1    1    1    1    1    1   \n",
       "1         0       0.039817          0    1    0    0    0    0    0    0    0   \n",
       "2         0       0.403953          0    1    1    1    1    1    0    0    0   \n",
       "3         1       0.853973          1    1    1    1    1    1    1    1    1   \n",
       "4         0       0.058700          0    1    0    0    0    0    0    0    0   \n",
       "\n",
       "   0.8  0.9  \n",
       "0    1    1  \n",
       "1    0    0  \n",
       "2    0    0  \n",
       "3    1    0  \n",
       "4    0    0  "
      ]
     },
     "execution_count": 35,
     "metadata": {},
     "output_type": "execute_result"
    }
   ],
   "source": [
    "# Let's create columns with different probability cutoffs \n",
    "numbers = [float(x)/10 for x in range(10)]\n",
    "for i in numbers:\n",
    "    y_train_pred_final[i]= y_train_pred_final.Diseased_Prob.map(lambda x: 1 if x > i else 0)\n",
    "y_train_pred_final.head()"
   ]
  },
  {
   "cell_type": "code",
   "execution_count": 36,
   "id": "individual-asset",
   "metadata": {
    "execution": {
     "iopub.execute_input": "2021-05-16T08:11:11.201537Z",
     "iopub.status.busy": "2021-05-16T08:11:11.198808Z",
     "iopub.status.idle": "2021-05-16T08:11:11.226903Z",
     "shell.execute_reply": "2021-05-16T08:11:11.226304Z"
    },
    "papermill": {
     "duration": 0.090203,
     "end_time": "2021-05-16T08:11:11.227036",
     "exception": false,
     "start_time": "2021-05-16T08:11:11.136833",
     "status": "completed"
    },
    "tags": []
   },
   "outputs": [
    {
     "name": "stdout",
     "output_type": "stream",
     "text": [
      "     prob  accuracy     sensi     speci\n",
      "0.0   0.0  0.549587  1.000000  0.000000\n",
      "0.1   0.1  0.764463  0.977444  0.504587\n",
      "0.2   0.2  0.801653  0.962406  0.605505\n",
      "0.3   0.3  0.830579  0.962406  0.669725\n",
      "0.4   0.4  0.838843  0.924812  0.733945\n",
      "0.5   0.5  0.863636  0.917293  0.798165\n",
      "0.6   0.6  0.859504  0.857143  0.862385\n",
      "0.7   0.7  0.814050  0.751880  0.889908\n",
      "0.8   0.8  0.768595  0.624060  0.944954\n",
      "0.9   0.9  0.690083  0.466165  0.963303\n"
     ]
    }
   ],
   "source": [
    "# Now let's calculate accuracy sensitivity and specificity for various probability cutoffs.\n",
    "cutoff_df = pd.DataFrame( columns = ['prob','accuracy','sensi','speci'])\n",
    "from sklearn.metrics import confusion_matrix\n",
    "\n",
    "# TP = confusion[1,1] # true positive \n",
    "# TN = confusion[0,0] # true negatives\n",
    "# FP = confusion[0,1] # false positives\n",
    "# FN = confusion[1,0] # false negatives\n",
    "\n",
    "num = [0.0,0.1,0.2,0.3,0.4,0.5,0.6,0.7,0.8,0.9]\n",
    "for i in num:\n",
    "    cm1 = metrics.confusion_matrix(y_train_pred_final.Diseased, y_train_pred_final[i] )\n",
    "    total1=sum(sum(cm1))\n",
    "    accuracy = (cm1[0,0]+cm1[1,1])/total1\n",
    "    \n",
    "    speci = cm1[0,0]/(cm1[0,0]+cm1[0,1])\n",
    "    sensi = cm1[1,1]/(cm1[1,0]+cm1[1,1])\n",
    "    cutoff_df.loc[i] =[ i ,accuracy,sensi,speci]\n",
    "print(cutoff_df)"
   ]
  },
  {
   "cell_type": "code",
   "execution_count": 37,
   "id": "excessive-clothing",
   "metadata": {
    "execution": {
     "iopub.execute_input": "2021-05-16T08:11:11.337820Z",
     "iopub.status.busy": "2021-05-16T08:11:11.337292Z",
     "iopub.status.idle": "2021-05-16T08:11:11.484454Z",
     "shell.execute_reply": "2021-05-16T08:11:11.484844Z"
    },
    "papermill": {
     "duration": 0.20463,
     "end_time": "2021-05-16T08:11:11.484972",
     "exception": false,
     "start_time": "2021-05-16T08:11:11.280342",
     "status": "completed"
    },
    "tags": []
   },
   "outputs": [
    {
     "data": {
      "image/png": "[encoded data removed]",
      "text/plain": [
       "<Figure size 432x288 with 1 Axes>"
      ]
     },
     "metadata": {
      "needs_background": "light"
     },
     "output_type": "display_data"
    }
   ],
   "source": [
    "# Let's plot accuracy sensitivity and specificity for various probabilities.\n",
    "cutoff_df.plot.line(x='prob', y=['accuracy','sensi','speci'])\n",
    "plt.show()"
   ]
  },
  {
   "cell_type": "markdown",
   "id": "union-occasion",
   "metadata": {
    "papermill": {
     "duration": 0.053779,
     "end_time": "2021-05-16T08:11:11.592462",
     "exception": false,
     "start_time": "2021-05-16T08:11:11.538683",
     "status": "completed"
    },
    "tags": []
   },
   "source": [
    "#### From the curve above, 0.3 is the optimum point to take it as a cutoff probability."
   ]
  },
  {
   "cell_type": "code",
   "execution_count": 38,
   "id": "sweet-madison",
   "metadata": {
    "execution": {
     "iopub.execute_input": "2021-05-16T08:11:11.703438Z",
     "iopub.status.busy": "2021-05-16T08:11:11.702758Z",
     "iopub.status.idle": "2021-05-16T08:11:11.716191Z",
     "shell.execute_reply": "2021-05-16T08:11:11.716568Z"
    },
    "papermill": {
     "duration": 0.070627,
     "end_time": "2021-05-16T08:11:11.716698",
     "exception": false,
     "start_time": "2021-05-16T08:11:11.646071",
     "status": "completed"
    },
    "tags": []
   },
   "outputs": [
    {
     "data": {
      "text/html": [
       "<div>\n",
       "<style scoped>\n",
       "    .dataframe tbody tr th:only-of-type {\n",
       "        vertical-align: middle;\n",
       "    }\n",
       "\n",
       "    .dataframe tbody tr th {\n",
       "        vertical-align: top;\n",
       "    }\n",
       "\n",
       "    .dataframe thead th {\n",
       "        text-align: right;\n",
       "    }\n",
       "</style>\n",
       "<table border=\"1\" class=\"dataframe\">\n",
       "  <thead>\n",
       "    <tr style=\"text-align: right;\">\n",
       "      <th></th>\n",
       "      <th>Diseased</th>\n",
       "      <th>Diseased_Prob</th>\n",
       "      <th>predicted</th>\n",
       "      <th>0.0</th>\n",
       "      <th>0.1</th>\n",
       "      <th>0.2</th>\n",
       "      <th>0.3</th>\n",
       "      <th>0.4</th>\n",
       "      <th>0.5</th>\n",
       "      <th>0.6</th>\n",
       "      <th>0.7</th>\n",
       "      <th>0.8</th>\n",
       "      <th>0.9</th>\n",
       "      <th>final_predicted</th>\n",
       "    </tr>\n",
       "  </thead>\n",
       "  <tbody>\n",
       "    <tr>\n",
       "      <th>0</th>\n",
       "      <td>1</td>\n",
       "      <td>0.923516</td>\n",
       "      <td>1</td>\n",
       "      <td>1</td>\n",
       "      <td>1</td>\n",
       "      <td>1</td>\n",
       "      <td>1</td>\n",
       "      <td>1</td>\n",
       "      <td>1</td>\n",
       "      <td>1</td>\n",
       "      <td>1</td>\n",
       "      <td>1</td>\n",
       "      <td>1</td>\n",
       "      <td>1</td>\n",
       "    </tr>\n",
       "    <tr>\n",
       "      <th>1</th>\n",
       "      <td>0</td>\n",
       "      <td>0.039817</td>\n",
       "      <td>0</td>\n",
       "      <td>1</td>\n",
       "      <td>0</td>\n",
       "      <td>0</td>\n",
       "      <td>0</td>\n",
       "      <td>0</td>\n",
       "      <td>0</td>\n",
       "      <td>0</td>\n",
       "      <td>0</td>\n",
       "      <td>0</td>\n",
       "      <td>0</td>\n",
       "      <td>0</td>\n",
       "    </tr>\n",
       "    <tr>\n",
       "      <th>2</th>\n",
       "      <td>0</td>\n",
       "      <td>0.403953</td>\n",
       "      <td>0</td>\n",
       "      <td>1</td>\n",
       "      <td>1</td>\n",
       "      <td>1</td>\n",
       "      <td>1</td>\n",
       "      <td>1</td>\n",
       "      <td>0</td>\n",
       "      <td>0</td>\n",
       "      <td>0</td>\n",
       "      <td>0</td>\n",
       "      <td>0</td>\n",
       "      <td>0</td>\n",
       "    </tr>\n",
       "    <tr>\n",
       "      <th>3</th>\n",
       "      <td>1</td>\n",
       "      <td>0.853973</td>\n",
       "      <td>1</td>\n",
       "      <td>1</td>\n",
       "      <td>1</td>\n",
       "      <td>1</td>\n",
       "      <td>1</td>\n",
       "      <td>1</td>\n",
       "      <td>1</td>\n",
       "      <td>1</td>\n",
       "      <td>1</td>\n",
       "      <td>1</td>\n",
       "      <td>0</td>\n",
       "      <td>1</td>\n",
       "    </tr>\n",
       "    <tr>\n",
       "      <th>4</th>\n",
       "      <td>0</td>\n",
       "      <td>0.058700</td>\n",
       "      <td>0</td>\n",
       "      <td>1</td>\n",
       "      <td>0</td>\n",
       "      <td>0</td>\n",
       "      <td>0</td>\n",
       "      <td>0</td>\n",
       "      <td>0</td>\n",
       "      <td>0</td>\n",
       "      <td>0</td>\n",
       "      <td>0</td>\n",
       "      <td>0</td>\n",
       "      <td>0</td>\n",
       "    </tr>\n",
       "  </tbody>\n",
       "</table>\n",
       "</div>"
      ],
      "text/plain": [
       "   Diseased  Diseased_Prob  predicted  0.0  0.1  0.2  0.3  0.4  0.5  0.6  0.7  \\\n",
       "0         1       0.923516          1    1    1    1    1    1    1    1    1   \n",
       "1         0       0.039817          0    1    0    0    0    0    0    0    0   \n",
       "2         0       0.403953          0    1    1    1    1    1    0    0    0   \n",
       "3         1       0.853973          1    1    1    1    1    1    1    1    1   \n",
       "4         0       0.058700          0    1    0    0    0    0    0    0    0   \n",
       "\n",
       "   0.8  0.9  final_predicted  \n",
       "0    1    1                1  \n",
       "1    0    0                0  \n",
       "2    0    0                0  \n",
       "3    1    0                1  \n",
       "4    0    0                0  "
      ]
     },
     "execution_count": 38,
     "metadata": {},
     "output_type": "execute_result"
    }
   ],
   "source": [
    "y_train_pred_final['final_predicted'] = y_train_pred_final.Diseased_Prob.map( lambda x: 1 if x > 0.6 else 0)\n",
    "\n",
    "y_train_pred_final.head()"
   ]
  },
  {
   "cell_type": "code",
   "execution_count": 39,
   "id": "wooden-citation",
   "metadata": {
    "execution": {
     "iopub.execute_input": "2021-05-16T08:11:11.829242Z",
     "iopub.status.busy": "2021-05-16T08:11:11.828626Z",
     "iopub.status.idle": "2021-05-16T08:11:11.834511Z",
     "shell.execute_reply": "2021-05-16T08:11:11.834047Z"
    },
    "papermill": {
     "duration": 0.063196,
     "end_time": "2021-05-16T08:11:11.834606",
     "exception": false,
     "start_time": "2021-05-16T08:11:11.771410",
     "status": "completed"
    },
    "tags": []
   },
   "outputs": [
    {
     "data": {
      "text/plain": [
       "0.859504132231405"
      ]
     },
     "execution_count": 39,
     "metadata": {},
     "output_type": "execute_result"
    }
   ],
   "source": [
    "# Let's check the overall accuracy.\n",
    "metrics.accuracy_score(y_train_pred_final.Diseased, y_train_pred_final.final_predicted)"
   ]
  },
  {
   "cell_type": "code",
   "execution_count": 40,
   "id": "exotic-envelope",
   "metadata": {
    "execution": {
     "iopub.execute_input": "2021-05-16T08:11:11.950601Z",
     "iopub.status.busy": "2021-05-16T08:11:11.948560Z",
     "iopub.status.idle": "2021-05-16T08:11:11.955095Z",
     "shell.execute_reply": "2021-05-16T08:11:11.954691Z"
    },
    "papermill": {
     "duration": 0.065802,
     "end_time": "2021-05-16T08:11:11.955219",
     "exception": false,
     "start_time": "2021-05-16T08:11:11.889417",
     "status": "completed"
    },
    "tags": []
   },
   "outputs": [
    {
     "data": {
      "text/plain": [
       "array([[ 94,  15],\n",
       "       [ 19, 114]])"
      ]
     },
     "execution_count": 40,
     "metadata": {},
     "output_type": "execute_result"
    }
   ],
   "source": [
    "confusion2 = metrics.confusion_matrix(y_train_pred_final.Diseased, y_train_pred_final.final_predicted )\n",
    "confusion2"
   ]
  },
  {
   "cell_type": "code",
   "execution_count": 41,
   "id": "appropriate-blood",
   "metadata": {
    "execution": {
     "iopub.execute_input": "2021-05-16T08:11:12.068787Z",
     "iopub.status.busy": "2021-05-16T08:11:12.068295Z",
     "iopub.status.idle": "2021-05-16T08:11:12.071879Z",
     "shell.execute_reply": "2021-05-16T08:11:12.071381Z"
    },
    "papermill": {
     "duration": 0.062795,
     "end_time": "2021-05-16T08:11:12.071990",
     "exception": false,
     "start_time": "2021-05-16T08:11:12.009195",
     "status": "completed"
    },
    "tags": []
   },
   "outputs": [],
   "source": [
    "TP = confusion2[1,1] # true positive \n",
    "TN = confusion2[0,0] # true negatives\n",
    "FP = confusion2[0,1] # false positives\n",
    "FN = confusion2[1,0] # false negatives"
   ]
  },
  {
   "cell_type": "code",
   "execution_count": 42,
   "id": "civic-serve",
   "metadata": {
    "execution": {
     "iopub.execute_input": "2021-05-16T08:11:12.187502Z",
     "iopub.status.busy": "2021-05-16T08:11:12.187010Z",
     "iopub.status.idle": "2021-05-16T08:11:12.190926Z",
     "shell.execute_reply": "2021-05-16T08:11:12.190455Z"
    },
    "papermill": {
     "duration": 0.062763,
     "end_time": "2021-05-16T08:11:12.191029",
     "exception": false,
     "start_time": "2021-05-16T08:11:12.128266",
     "status": "completed"
    },
    "tags": []
   },
   "outputs": [
    {
     "data": {
      "text/plain": [
       "0.8571428571428571"
      ]
     },
     "execution_count": 42,
     "metadata": {},
     "output_type": "execute_result"
    }
   ],
   "source": [
    "# Let's see the sensitivity of our logistic regression model\n",
    "TP / float(TP+FN)"
   ]
  },
  {
   "cell_type": "code",
   "execution_count": 43,
   "id": "outer-environment",
   "metadata": {
    "execution": {
     "iopub.execute_input": "2021-05-16T08:11:12.303531Z",
     "iopub.status.busy": "2021-05-16T08:11:12.302785Z",
     "iopub.status.idle": "2021-05-16T08:11:12.306100Z",
     "shell.execute_reply": "2021-05-16T08:11:12.306635Z"
    },
    "papermill": {
     "duration": 0.060912,
     "end_time": "2021-05-16T08:11:12.306804",
     "exception": false,
     "start_time": "2021-05-16T08:11:12.245892",
     "status": "completed"
    },
    "tags": []
   },
   "outputs": [
    {
     "data": {
      "text/plain": [
       "0.8623853211009175"
      ]
     },
     "execution_count": 43,
     "metadata": {},
     "output_type": "execute_result"
    }
   ],
   "source": [
    "# Let us calculate specificity\n",
    "TN / float(TN+FP)"
   ]
  },
  {
   "cell_type": "code",
   "execution_count": null,
   "id": "skilled-democracy",
   "metadata": {
    "papermill": {
     "duration": 0.080654,
     "end_time": "2021-05-16T08:11:12.468903",
     "exception": false,
     "start_time": "2021-05-16T08:11:12.388249",
     "status": "completed"
    },
    "tags": []
   },
   "outputs": [],
   "source": []
  }
 ],
 "metadata": {
  "kernelspec": {
   "display_name": "Python 3",
   "language": "python",
   "name": "python3"
  },
  "language_info": {
   "codemirror_mode": {
    "name": "ipython",
    "version": 3
   },
   "file_extension": ".py",
   "mimetype": "text/x-python",
   "name": "python",
   "nbconvert_exporter": "python",
   "pygments_lexer": "ipython3",
   "version": "3.7.10"
  },
  "papermill": {
   "default_parameters": {},
   "duration": 20.953578,
   "end_time": "2021-05-16T08:11:13.826980",
   "environment_variables": {},
   "exception": null,
   "input_path": "__notebook__.ipynb",
   "output_path": "__notebook__.ipynb",
   "parameters": {},
   "start_time": "2021-05-16T08:10:52.873402",
   "version": "2.3.3"
  }
 },
 "nbformat": 4,
 "nbformat_minor": 5
}
